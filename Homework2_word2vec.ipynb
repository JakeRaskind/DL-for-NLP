{
  "cells": [
    {
      "cell_type": "code",
      "execution_count": null,
      "metadata": {
        "id": "WyaMufj56j1R"
      },
      "outputs": [],
      "source": [
        "import json\n",
        "import random\n",
        "from tqdm import tqdm\n",
        "import numpy as np\n",
        "\n",
        "from matplotlib import pyplot as plt\n",
        "from sklearn.decomposition import TruncatedSVD\n",
        "from sklearn.manifold import TSNE\n",
        "\n",
        "import torch\n",
        "\n",
        "from pylab import rcParams\n",
        "rcParams['figure.figsize'] = 15, 15"
      ]
    },
    {
      "cell_type": "markdown",
      "metadata": {
        "id": "gGOXpBkq6j1V"
      },
      "source": [
        "# Что делать?\n",
        "Где есть пометка # CODE писать код\n",
        "\n",
        "[Полезный туториал](http://jalammar.github.io/illustrated-word2vec/)"
      ]
    },
    {
      "cell_type": "markdown",
      "metadata": {
        "id": "jyv3tgoe6j1W"
      },
      "source": [
        "# Загружаем данные\n",
        "Они уже обработанные и токенизированные. Процесс можно посмотреть в тетрадке 1.1 Processing corpus"
      ]
    },
    {
      "cell_type": "code",
      "source": [
        "!unzip /content/processed_corpus.json.zip"
      ],
      "metadata": {
        "colab": {
          "base_uri": "https://localhost:8080/"
        },
        "id": "wrCFWXqc8xpu",
        "outputId": "d418c0f4-37cd-415e-ac03-bb4d0e8c25f9"
      },
      "execution_count": null,
      "outputs": [
        {
          "output_type": "stream",
          "name": "stdout",
          "text": [
            "Archive:  /content/processed_corpus.json.zip\n",
            "  inflating: processed_corpus.json   \n"
          ]
        }
      ]
    },
    {
      "cell_type": "code",
      "execution_count": null,
      "metadata": {
        "id": "uXOFBiiC6j1X"
      },
      "outputs": [],
      "source": [
        "with open('/content/processed_corpus.json') as f:\n",
        "    corpus = json.load(f)"
      ]
    },
    {
      "cell_type": "code",
      "execution_count": null,
      "metadata": {
        "colab": {
          "base_uri": "https://localhost:8080/"
        },
        "id": "iyHeF2Ja6j1Y",
        "outputId": "2c127624-7950-47be-ee87-e5e119365c30"
      },
      "outputs": [
        {
          "output_type": "execute_result",
          "data": {
            "text/plain": [
              "100000"
            ]
          },
          "metadata": {},
          "execution_count": 10
        }
      ],
      "source": [
        "len(corpus)"
      ]
    },
    {
      "cell_type": "code",
      "execution_count": null,
      "metadata": {
        "colab": {
          "base_uri": "https://localhost:8080/"
        },
        "id": "pxHk8_Gz6j1a",
        "outputId": "f6be1176-e6a2-4915-94e5-d857ce13d5e9"
      },
      "outputs": [
        {
          "output_type": "stream",
          "name": "stdout",
          "text": [
            "второй UNK год окончательно разочаровать решить податься альфабанк\n",
            "вернуть денежный средство лицевой счёт либо зачесть счёт погашение кредит\n",
            "притом ситуация решиться участие течение сутки заявить\n",
            "мой ##число летний жизнь это самый неповоротливый работник банк который видеть\n",
            "везде написать вклад принимать очередь это\n"
          ]
        }
      ],
      "source": [
        "for text in corpus[:5]:\n",
        "    print(' '.join(text))"
      ]
    },
    {
      "cell_type": "markdown",
      "metadata": {
        "id": "XznBjb8c6j1b"
      },
      "source": [
        "# CBOW"
      ]
    },
    {
      "cell_type": "code",
      "execution_count": null,
      "metadata": {
        "id": "6zF1bQdd6j1b"
      },
      "outputs": [],
      "source": [
        "sample_text = corpus[1]"
      ]
    },
    {
      "cell_type": "code",
      "execution_count": null,
      "metadata": {
        "colab": {
          "base_uri": "https://localhost:8080/",
          "height": 36
        },
        "id": "O7oMfB6L6j1c",
        "outputId": "a2b6796d-8236-4a60-d6a4-9208abceceda"
      },
      "outputs": [
        {
          "output_type": "execute_result",
          "data": {
            "text/plain": [
              "'вернуть денежный средство лицевой счёт либо зачесть счёт погашение кредит'"
            ],
            "application/vnd.google.colaboratory.intrinsic+json": {
              "type": "string"
            }
          },
          "metadata": {},
          "execution_count": 13
        }
      ],
      "source": [
        "' '.join(sample_text)"
      ]
    },
    {
      "cell_type": "markdown",
      "metadata": {
        "id": "5W4-yVkL6j1d"
      },
      "source": [
        "# Реализуйте разделение предложения на примеры методом CBOW"
      ]
    },
    {
      "cell_type": "code",
      "execution_count": null,
      "metadata": {
        "id": "fcM3Yk136j1e"
      },
      "outputs": [],
      "source": [
        "def cbow_split(tokens, window, pad_token='PAD'):\n",
        "    \n",
        "    # CODE\n",
        "    tokens = [pad_token] * window + tokens + [pad_token] * window\n",
        "    splits = [(tokens[i-window:i], tokens[i], tokens[i+1:i+window+1]) for i in range(window, len(tokens) - window)]\n",
        "        \n",
        "    return splits"
      ]
    },
    {
      "cell_type": "code",
      "execution_count": null,
      "metadata": {
        "id": "ULIhbR_H6j1f"
      },
      "outputs": [],
      "source": [
        "splits = cbow_split(sample_text, window=2)"
      ]
    },
    {
      "cell_type": "code",
      "execution_count": null,
      "metadata": {
        "colab": {
          "base_uri": "https://localhost:8080/"
        },
        "id": "l2BuQIjJ6j1f",
        "outputId": "00d00262-4a4e-4d2a-b530-33e6a17a2cc4"
      },
      "outputs": [
        {
          "output_type": "stream",
          "name": "stdout",
          "text": [
            "Левый контекст: ['PAD', 'PAD']\n",
            "Центральное слово: вернуть\n",
            "Правый контекст: ['денежный', 'средство']\n",
            "\n",
            "Левый контекст: ['PAD', 'вернуть']\n",
            "Центральное слово: денежный\n",
            "Правый контекст: ['средство', 'лицевой']\n",
            "\n",
            "Левый контекст: ['вернуть', 'денежный']\n",
            "Центральное слово: средство\n",
            "Правый контекст: ['лицевой', 'счёт']\n",
            "\n",
            "Левый контекст: ['денежный', 'средство']\n",
            "Центральное слово: лицевой\n",
            "Правый контекст: ['счёт', 'либо']\n",
            "\n",
            "Левый контекст: ['средство', 'лицевой']\n",
            "Центральное слово: счёт\n",
            "Правый контекст: ['либо', 'зачесть']\n",
            "\n",
            "Левый контекст: ['лицевой', 'счёт']\n",
            "Центральное слово: либо\n",
            "Правый контекст: ['зачесть', 'счёт']\n",
            "\n",
            "Левый контекст: ['счёт', 'либо']\n",
            "Центральное слово: зачесть\n",
            "Правый контекст: ['счёт', 'погашение']\n",
            "\n",
            "Левый контекст: ['либо', 'зачесть']\n",
            "Центральное слово: счёт\n",
            "Правый контекст: ['погашение', 'кредит']\n",
            "\n",
            "Левый контекст: ['зачесть', 'счёт']\n",
            "Центральное слово: погашение\n",
            "Правый контекст: ['кредит', 'PAD']\n",
            "\n",
            "Левый контекст: ['счёт', 'погашение']\n",
            "Центральное слово: кредит\n",
            "Правый контекст: ['PAD', 'PAD']\n",
            "\n"
          ]
        }
      ],
      "source": [
        "for sample in splits:\n",
        "    print('Левый контекст:', sample[0])\n",
        "    print('Центральное слово:', sample[1])\n",
        "    print('Правый контекст:', sample[2], end='\\n\\n')"
      ]
    },
    {
      "cell_type": "code",
      "execution_count": null,
      "metadata": {
        "colab": {
          "base_uri": "https://localhost:8080/"
        },
        "id": "tPIS6CGh6j1g",
        "outputId": "93066922-708e-4951-ce8c-3ff4870803ef"
      },
      "outputs": [
        {
          "output_type": "execute_result",
          "data": {
            "text/plain": [
              "[(['PAD', 'PAD'], 'вернуть', ['денежный', 'средство']),\n",
              " (['PAD', 'вернуть'], 'денежный', ['средство', 'лицевой']),\n",
              " (['вернуть', 'денежный'], 'средство', ['лицевой', 'счёт']),\n",
              " (['денежный', 'средство'], 'лицевой', ['счёт', 'либо']),\n",
              " (['средство', 'лицевой'], 'счёт', ['либо', 'зачесть']),\n",
              " (['лицевой', 'счёт'], 'либо', ['зачесть', 'счёт']),\n",
              " (['счёт', 'либо'], 'зачесть', ['счёт', 'погашение']),\n",
              " (['либо', 'зачесть'], 'счёт', ['погашение', 'кредит']),\n",
              " (['зачесть', 'счёт'], 'погашение', ['кредит', 'PAD']),\n",
              " (['счёт', 'погашение'], 'кредит', ['PAD', 'PAD'])]"
            ]
          },
          "metadata": {},
          "execution_count": 17
        }
      ],
      "source": [
        "splits"
      ]
    },
    {
      "cell_type": "markdown",
      "metadata": {
        "id": "knpPBYWi6j1g"
      },
      "source": [
        "# Expected\n",
        "\n",
        "```python\n",
        "[(['PAD', 'PAD'], 'вопрос', ['почему', 'например']),\n",
        " (['PAD', 'вопрос'], 'почему', ['например', 'китайский']),\n",
        " (['вопрос', 'почему'], 'например', ['китайский', 'японский']),\n",
        " (['почему', 'например'], 'китайский', ['японский', 'UNK']),\n",
        " (['например', 'китайский'], 'японский', ['UNK', 'PAD']),\n",
        " (['китайский', 'японский'], 'UNK', ['PAD', 'PAD'])]\n",
        "```"
      ]
    },
    {
      "cell_type": "code",
      "execution_count": null,
      "metadata": {
        "colab": {
          "base_uri": "https://localhost:8080/"
        },
        "id": "kMuaF07w6j1g",
        "outputId": "7654116e-ff11-4325-9ea1-7267d7a05b71"
      },
      "outputs": [
        {
          "output_type": "execute_result",
          "data": {
            "text/plain": [
              "[(['PAD', 'PAD', 'PAD'], 'вернуть', ['денежный', 'средство', 'лицевой']),\n",
              " (['PAD', 'PAD', 'вернуть'], 'денежный', ['средство', 'лицевой', 'счёт']),\n",
              " (['PAD', 'вернуть', 'денежный'], 'средство', ['лицевой', 'счёт', 'либо']),\n",
              " (['вернуть', 'денежный', 'средство'], 'лицевой', ['счёт', 'либо', 'зачесть']),\n",
              " (['денежный', 'средство', 'лицевой'], 'счёт', ['либо', 'зачесть', 'счёт']),\n",
              " (['средство', 'лицевой', 'счёт'], 'либо', ['зачесть', 'счёт', 'погашение']),\n",
              " (['лицевой', 'счёт', 'либо'], 'зачесть', ['счёт', 'погашение', 'кредит']),\n",
              " (['счёт', 'либо', 'зачесть'], 'счёт', ['погашение', 'кредит', 'PAD']),\n",
              " (['либо', 'зачесть', 'счёт'], 'погашение', ['кредит', 'PAD', 'PAD']),\n",
              " (['зачесть', 'счёт', 'погашение'], 'кредит', ['PAD', 'PAD', 'PAD'])]"
            ]
          },
          "metadata": {},
          "execution_count": 18
        }
      ],
      "source": [
        "cbow_split(sample_text, window=3)"
      ]
    },
    {
      "cell_type": "markdown",
      "metadata": {
        "id": "ymWBEkw76j1h"
      },
      "source": [
        "# Expected\n",
        "\n",
        "```python\n",
        "[(['PAD', 'PAD', 'PAD'], 'вопрос', ['почему', 'например', 'китайский']),\n",
        " (['PAD', 'PAD', 'вопрос'], 'почему', ['например', 'китайский', 'японский']),\n",
        " (['PAD', 'вопрос', 'почему'], 'например', ['китайский', 'японский', 'UNK']),\n",
        " (['вопрос', 'почему', 'например'], 'китайский', ['японский', 'UNK', 'PAD']),\n",
        " (['почему', 'например', 'китайский'], 'японский', ['UNK', 'PAD', 'PAD']),\n",
        " (['например', 'китайский', 'японский'], 'UNK', ['PAD', 'PAD', 'PAD'])]\n",
        "```"
      ]
    },
    {
      "cell_type": "markdown",
      "metadata": {
        "id": "x43Q2Hzu6j1h"
      },
      "source": [
        "# Skipgram"
      ]
    },
    {
      "cell_type": "code",
      "execution_count": null,
      "metadata": {
        "colab": {
          "base_uri": "https://localhost:8080/",
          "height": 36
        },
        "id": "A5iiQ1gQ6j1h",
        "outputId": "e65946cf-a854-4c21-842f-18428391e14c"
      },
      "outputs": [
        {
          "output_type": "execute_result",
          "data": {
            "text/plain": [
              "'вернуть денежный средство лицевой счёт либо зачесть счёт погашение кредит'"
            ],
            "application/vnd.google.colaboratory.intrinsic+json": {
              "type": "string"
            }
          },
          "metadata": {},
          "execution_count": 19
        }
      ],
      "source": [
        "' '.join(sample_text)"
      ]
    },
    {
      "cell_type": "markdown",
      "metadata": {
        "id": "LUZw2PWN6j1h"
      },
      "source": [
        "# Реализуйте разделение предложения на примеры методом Skipgram"
      ]
    },
    {
      "cell_type": "code",
      "execution_count": null,
      "metadata": {
        "id": "cu_OA2HM6j1i"
      },
      "outputs": [],
      "source": [
        "def skipgram_split(tokens, window):\n",
        "    \n",
        "    splits = []\n",
        "    \n",
        "    for i in range(window):\n",
        "      splits.extend(list(zip(tokens[i+1:], tokens)))\n",
        "      splits.extend(list(zip(tokens, tokens[i+1:])))\n",
        "    \n",
        "    return splits"
      ]
    },
    {
      "cell_type": "code",
      "execution_count": null,
      "metadata": {
        "id": "3eve8ao86j1i"
      },
      "outputs": [],
      "source": [
        "splits = skipgram_split(sample_text, window=2)"
      ]
    },
    {
      "cell_type": "code",
      "execution_count": null,
      "metadata": {
        "colab": {
          "base_uri": "https://localhost:8080/"
        },
        "id": "525Lqvt56j1i",
        "outputId": "b62924fe-5af8-4de9-b6c2-b669b776c2ab"
      },
      "outputs": [
        {
          "output_type": "stream",
          "name": "stdout",
          "text": [
            "Контекст: денежный\n",
            "Центральное слово: вернуть\n",
            "\n",
            "Контекст: средство\n",
            "Центральное слово: денежный\n",
            "\n",
            "Контекст: лицевой\n",
            "Центральное слово: средство\n",
            "\n",
            "Контекст: счёт\n",
            "Центральное слово: лицевой\n",
            "\n",
            "Контекст: либо\n",
            "Центральное слово: счёт\n",
            "\n",
            "Контекст: зачесть\n",
            "Центральное слово: либо\n",
            "\n",
            "Контекст: счёт\n",
            "Центральное слово: зачесть\n",
            "\n",
            "Контекст: погашение\n",
            "Центральное слово: счёт\n",
            "\n",
            "Контекст: кредит\n",
            "Центральное слово: погашение\n",
            "\n",
            "Контекст: вернуть\n",
            "Центральное слово: денежный\n",
            "\n",
            "Контекст: денежный\n",
            "Центральное слово: средство\n",
            "\n",
            "Контекст: средство\n",
            "Центральное слово: лицевой\n",
            "\n",
            "Контекст: лицевой\n",
            "Центральное слово: счёт\n",
            "\n",
            "Контекст: счёт\n",
            "Центральное слово: либо\n",
            "\n",
            "Контекст: либо\n",
            "Центральное слово: зачесть\n",
            "\n",
            "Контекст: зачесть\n",
            "Центральное слово: счёт\n",
            "\n",
            "Контекст: счёт\n",
            "Центральное слово: погашение\n",
            "\n",
            "Контекст: погашение\n",
            "Центральное слово: кредит\n",
            "\n",
            "Контекст: средство\n",
            "Центральное слово: вернуть\n",
            "\n",
            "Контекст: лицевой\n",
            "Центральное слово: денежный\n",
            "\n",
            "Контекст: счёт\n",
            "Центральное слово: средство\n",
            "\n",
            "Контекст: либо\n",
            "Центральное слово: лицевой\n",
            "\n",
            "Контекст: зачесть\n",
            "Центральное слово: счёт\n",
            "\n",
            "Контекст: счёт\n",
            "Центральное слово: либо\n",
            "\n",
            "Контекст: погашение\n",
            "Центральное слово: зачесть\n",
            "\n",
            "Контекст: кредит\n",
            "Центральное слово: счёт\n",
            "\n",
            "Контекст: вернуть\n",
            "Центральное слово: средство\n",
            "\n",
            "Контекст: денежный\n",
            "Центральное слово: лицевой\n",
            "\n",
            "Контекст: средство\n",
            "Центральное слово: счёт\n",
            "\n",
            "Контекст: лицевой\n",
            "Центральное слово: либо\n",
            "\n",
            "Контекст: счёт\n",
            "Центральное слово: зачесть\n",
            "\n",
            "Контекст: либо\n",
            "Центральное слово: счёт\n",
            "\n",
            "Контекст: зачесть\n",
            "Центральное слово: погашение\n",
            "\n",
            "Контекст: счёт\n",
            "Центральное слово: кредит\n",
            "\n"
          ]
        }
      ],
      "source": [
        "for sample in splits:\n",
        "    print('Контекст:', sample[0])\n",
        "    print('Центральное слово:', sample[1], end='\\n\\n')"
      ]
    },
    {
      "cell_type": "code",
      "execution_count": null,
      "metadata": {
        "colab": {
          "base_uri": "https://localhost:8080/"
        },
        "id": "y4B3hroU6j1j",
        "outputId": "4a9ed3c6-a924-4206-9360-8a420c750443"
      },
      "outputs": [
        {
          "output_type": "execute_result",
          "data": {
            "text/plain": [
              "[('денежный', 'вернуть'),\n",
              " ('средство', 'денежный'),\n",
              " ('лицевой', 'средство'),\n",
              " ('счёт', 'лицевой'),\n",
              " ('либо', 'счёт'),\n",
              " ('зачесть', 'либо'),\n",
              " ('счёт', 'зачесть'),\n",
              " ('погашение', 'счёт'),\n",
              " ('кредит', 'погашение'),\n",
              " ('вернуть', 'денежный'),\n",
              " ('денежный', 'средство'),\n",
              " ('средство', 'лицевой'),\n",
              " ('лицевой', 'счёт'),\n",
              " ('счёт', 'либо'),\n",
              " ('либо', 'зачесть'),\n",
              " ('зачесть', 'счёт'),\n",
              " ('счёт', 'погашение'),\n",
              " ('погашение', 'кредит'),\n",
              " ('средство', 'вернуть'),\n",
              " ('лицевой', 'денежный'),\n",
              " ('счёт', 'средство'),\n",
              " ('либо', 'лицевой'),\n",
              " ('зачесть', 'счёт'),\n",
              " ('счёт', 'либо'),\n",
              " ('погашение', 'зачесть'),\n",
              " ('кредит', 'счёт'),\n",
              " ('вернуть', 'средство'),\n",
              " ('денежный', 'лицевой'),\n",
              " ('средство', 'счёт'),\n",
              " ('лицевой', 'либо'),\n",
              " ('счёт', 'зачесть'),\n",
              " ('либо', 'счёт'),\n",
              " ('зачесть', 'погашение'),\n",
              " ('счёт', 'кредит')]"
            ]
          },
          "metadata": {},
          "execution_count": 24
        }
      ],
      "source": [
        "skipgram_split(sample_text, window=2)"
      ]
    },
    {
      "cell_type": "code",
      "source": [
        "len(splits)"
      ],
      "metadata": {
        "colab": {
          "base_uri": "https://localhost:8080/"
        },
        "id": "tB4TFr-bFIid",
        "outputId": "1401c78b-00c3-4e30-8132-2e2a356b547a"
      },
      "execution_count": null,
      "outputs": [
        {
          "output_type": "execute_result",
          "data": {
            "text/plain": [
              "34"
            ]
          },
          "metadata": {},
          "execution_count": 25
        }
      ]
    },
    {
      "cell_type": "markdown",
      "metadata": {
        "id": "EBTGxfEB6j1j"
      },
      "source": [
        "# Expected\n",
        "\n",
        "```python\n",
        "[('почему', 'вопрос'),\n",
        " ('например', 'вопрос'),\n",
        " ('вопрос', 'почему'),\n",
        " ('например', 'почему'),\n",
        " ('китайский', 'почему'),\n",
        " ('вопрос', 'например'),\n",
        " ('почему', 'например'),\n",
        " ('китайский', 'например'),\n",
        " ('японский', 'например'),\n",
        " ('почему', 'китайский'),\n",
        " ('например', 'китайский'),\n",
        " ('японский', 'китайский'),\n",
        " ('UNK', 'китайский'),\n",
        " ('например', 'японский'),\n",
        " ('китайский', 'японский'),\n",
        " ('UNK', 'японский'),\n",
        " ('китайский', 'UNK'),\n",
        " ('японский', 'UNK')]\n",
        "```"
      ]
    },
    {
      "cell_type": "code",
      "execution_count": null,
      "metadata": {
        "colab": {
          "base_uri": "https://localhost:8080/"
        },
        "id": "TCHE-fD46j1k",
        "outputId": "946fc08d-3f00-42a5-d1ca-8c47f8127fbc"
      },
      "outputs": [
        {
          "output_type": "execute_result",
          "data": {
            "text/plain": [
              "[('денежный', 'вернуть'),\n",
              " ('средство', 'денежный'),\n",
              " ('лицевой', 'средство'),\n",
              " ('счёт', 'лицевой'),\n",
              " ('либо', 'счёт'),\n",
              " ('зачесть', 'либо'),\n",
              " ('счёт', 'зачесть'),\n",
              " ('погашение', 'счёт'),\n",
              " ('кредит', 'погашение'),\n",
              " ('вернуть', 'денежный'),\n",
              " ('денежный', 'средство'),\n",
              " ('средство', 'лицевой'),\n",
              " ('лицевой', 'счёт'),\n",
              " ('счёт', 'либо'),\n",
              " ('либо', 'зачесть'),\n",
              " ('зачесть', 'счёт'),\n",
              " ('счёт', 'погашение'),\n",
              " ('погашение', 'кредит'),\n",
              " ('средство', 'вернуть'),\n",
              " ('лицевой', 'денежный'),\n",
              " ('счёт', 'средство'),\n",
              " ('либо', 'лицевой'),\n",
              " ('зачесть', 'счёт'),\n",
              " ('счёт', 'либо'),\n",
              " ('погашение', 'зачесть'),\n",
              " ('кредит', 'счёт'),\n",
              " ('вернуть', 'средство'),\n",
              " ('денежный', 'лицевой'),\n",
              " ('средство', 'счёт'),\n",
              " ('лицевой', 'либо'),\n",
              " ('счёт', 'зачесть'),\n",
              " ('либо', 'счёт'),\n",
              " ('зачесть', 'погашение'),\n",
              " ('счёт', 'кредит'),\n",
              " ('лицевой', 'вернуть'),\n",
              " ('счёт', 'денежный'),\n",
              " ('либо', 'средство'),\n",
              " ('зачесть', 'лицевой'),\n",
              " ('счёт', 'счёт'),\n",
              " ('погашение', 'либо'),\n",
              " ('кредит', 'зачесть'),\n",
              " ('вернуть', 'лицевой'),\n",
              " ('денежный', 'счёт'),\n",
              " ('средство', 'либо'),\n",
              " ('лицевой', 'зачесть'),\n",
              " ('счёт', 'счёт'),\n",
              " ('либо', 'погашение'),\n",
              " ('зачесть', 'кредит')]"
            ]
          },
          "metadata": {},
          "execution_count": 26
        }
      ],
      "source": [
        "skipgram_split(sample_text, window=3)"
      ]
    },
    {
      "cell_type": "markdown",
      "metadata": {
        "id": "gY3VPhsH6j1k"
      },
      "source": [
        "# Expected\n",
        "\n",
        "```python\n",
        "[('почему', 'вопрос'),\n",
        " ('например', 'вопрос'),\n",
        " ('китайский', 'вопрос'),\n",
        " ('вопрос', 'почему'),\n",
        " ('например', 'почему'),\n",
        " ('китайский', 'почему'),\n",
        " ('японский', 'почему'),\n",
        " ('вопрос', 'например'),\n",
        " ('почему', 'например'),\n",
        " ('китайский', 'например'),\n",
        " ('японский', 'например'),\n",
        " ('UNK', 'например'),\n",
        " ('вопрос', 'китайский'),\n",
        " ('почему', 'китайский'),\n",
        " ('например', 'китайский'),\n",
        " ('японский', 'китайский'),\n",
        " ('UNK', 'китайский'),\n",
        " ('почему', 'японский'),\n",
        " ('например', 'японский'),\n",
        " ('китайский', 'японский'),\n",
        " ('UNK', 'японский'),\n",
        " ('например', 'UNK'),\n",
        " ('китайский', 'UNK'),\n",
        " ('японский', 'UNK')]\n",
        "```"
      ]
    },
    {
      "cell_type": "code",
      "execution_count": null,
      "metadata": {
        "id": "M9-ggrwC6j1k"
      },
      "outputs": [],
      "source": [
        "word2index = {}\n",
        "\n",
        "for text in corpus:\n",
        "    for token in text:\n",
        "        if token not in word2index:\n",
        "            word2index[token] = len(word2index)"
      ]
    },
    {
      "cell_type": "code",
      "execution_count": null,
      "metadata": {
        "colab": {
          "base_uri": "https://localhost:8080/"
        },
        "id": "bwP-Z3cw6j1l",
        "outputId": "654ef987-814f-433e-c0e7-cdceb81fccd3"
      },
      "outputs": [
        {
          "output_type": "execute_result",
          "data": {
            "text/plain": [
              "13076"
            ]
          },
          "metadata": {},
          "execution_count": 28
        }
      ],
      "source": [
        "len(word2index)"
      ]
    },
    {
      "cell_type": "code",
      "execution_count": null,
      "metadata": {
        "colab": {
          "base_uri": "https://localhost:8080/"
        },
        "id": "vu7Ldsg16j1l",
        "outputId": "c72413e2-ef64-4242-8faa-0d9b16ae4519"
      },
      "outputs": [
        {
          "output_type": "execute_result",
          "data": {
            "text/plain": [
              "1"
            ]
          },
          "metadata": {},
          "execution_count": 29
        }
      ],
      "source": [
        "word2index['UNK']"
      ]
    },
    {
      "cell_type": "code",
      "execution_count": null,
      "metadata": {
        "colab": {
          "base_uri": "https://localhost:8080/"
        },
        "id": "LSfLICeu6j1l",
        "outputId": "f8fa43cb-f791-4660-c198-b9f7a7b0a33c"
      },
      "outputs": [
        {
          "output_type": "execute_result",
          "data": {
            "text/plain": [
              "[1282, 8436, 1]"
            ]
          },
          "metadata": {},
          "execution_count": 30
        }
      ],
      "source": [
        "[word2index[tok] if tok in word2index else word2index['UNK'] for tok in 'мама мыть рама'.split()]"
      ]
    },
    {
      "cell_type": "markdown",
      "metadata": {
        "id": "BmE57_fe6j1m"
      },
      "source": [
        "# Torch Dataset\n",
        "В торче есть очень удобная читалка данных"
      ]
    },
    {
      "cell_type": "code",
      "execution_count": null,
      "metadata": {
        "id": "0Ty4wZjW6j1m"
      },
      "outputs": [],
      "source": [
        "from torch.utils.data import Dataset, DataLoader"
      ]
    },
    {
      "cell_type": "code",
      "execution_count": null,
      "metadata": {
        "id": "alrcojlA6j1m"
      },
      "outputs": [],
      "source": [
        "# игрушечный датасет\n",
        "# 121535 примера, 4 фичи, 3 класса\n",
        "some_data_x = np.random.rand(121535, 4)\n",
        "some_data_y = np.random.randint(3, size=(121535,))"
      ]
    },
    {
      "cell_type": "code",
      "execution_count": null,
      "metadata": {
        "colab": {
          "base_uri": "https://localhost:8080/"
        },
        "id": "yQmTw2Bm6j1m",
        "outputId": "88ac09bc-9065-4386-b318-d824bdeb3e85"
      },
      "outputs": [
        {
          "output_type": "execute_result",
          "data": {
            "text/plain": [
              "array([[0.46418232, 0.18568569, 0.58590215, 0.29386739],\n",
              "       [0.34821501, 0.74854499, 0.55750363, 0.98786623],\n",
              "       [0.43561139, 0.74530499, 0.26602849, 0.66343334],\n",
              "       [0.7729833 , 0.31627857, 0.09440778, 0.63713541],\n",
              "       [0.32024206, 0.85146662, 0.23476935, 0.0924439 ],\n",
              "       [0.02242447, 0.79863795, 0.11843756, 0.6737876 ],\n",
              "       [0.9242741 , 0.99837895, 0.2450138 , 0.59245895],\n",
              "       [0.49051944, 0.43544738, 0.77927328, 0.49992525],\n",
              "       [0.73438803, 0.39190145, 0.08198819, 0.41065342],\n",
              "       [0.88194366, 0.55687817, 0.06524563, 0.73999924]])"
            ]
          },
          "metadata": {},
          "execution_count": 33
        }
      ],
      "source": [
        "# соверешенно игрушечный, просто цифры\n",
        "some_data_x[:10]"
      ]
    },
    {
      "cell_type": "code",
      "execution_count": null,
      "metadata": {
        "colab": {
          "base_uri": "https://localhost:8080/"
        },
        "id": "FJ1bgjQ76j1m",
        "outputId": "a0f8bac1-701e-4fd8-af6e-26a59acea755"
      },
      "outputs": [
        {
          "output_type": "execute_result",
          "data": {
            "text/plain": [
              "array([2, 1, 2, ..., 1, 1, 0])"
            ]
          },
          "metadata": {},
          "execution_count": 34
        }
      ],
      "source": [
        "some_data_y"
      ]
    },
    {
      "cell_type": "code",
      "execution_count": null,
      "metadata": {
        "id": "4YmVmBwo6j1n"
      },
      "outputs": [],
      "source": [
        "class ToyDataset(Dataset):\n",
        "    \n",
        "    def __init__(self, data_x, data_y):\n",
        "        \n",
        "        super().__init__()\n",
        "        \n",
        "        self.data_x = data_x\n",
        "        self.data_y = data_y\n",
        "        \n",
        "    def __len__(self):\n",
        "        \n",
        "        # Нужно обязательно определить эту функцию\n",
        "        # Должна возвращать размер датасета\n",
        "        \n",
        "        return len(self.data_x)\n",
        "    \n",
        "    def __getitem__(self, idx):\n",
        "        \n",
        "        # Еще нужно определить этот метод\n",
        "        # То есть как мы будем доставать наши данные по индексу\n",
        "        \n",
        "        return self.data_x[idx], self.data_y[idx]"
      ]
    },
    {
      "cell_type": "code",
      "execution_count": null,
      "metadata": {
        "id": "phbx1lK56j1n"
      },
      "outputs": [],
      "source": [
        "some_dataset = ToyDataset(some_data_x, some_data_y)"
      ]
    },
    {
      "cell_type": "code",
      "execution_count": null,
      "metadata": {
        "colab": {
          "base_uri": "https://localhost:8080/"
        },
        "id": "PvU8MrUD6j1n",
        "outputId": "34c8abd2-0945-407d-add6-7b2b0140578c"
      },
      "outputs": [
        {
          "output_type": "execute_result",
          "data": {
            "text/plain": [
              "((array([0.02242447, 0.79863795, 0.11843756, 0.6737876 ]), 1),\n",
              " (array([0.34478323, 0.1807446 , 0.72578648, 0.60843236]), 2))"
            ]
          },
          "metadata": {},
          "execution_count": 37
        }
      ],
      "source": [
        "some_dataset[5], some_dataset[467]"
      ]
    },
    {
      "cell_type": "code",
      "execution_count": null,
      "metadata": {
        "id": "MtUypqZb6j1o"
      },
      "outputs": [],
      "source": [
        "some_loader = DataLoader(some_dataset, batch_size=16, shuffle=True)"
      ]
    },
    {
      "cell_type": "code",
      "execution_count": null,
      "metadata": {
        "colab": {
          "base_uri": "https://localhost:8080/"
        },
        "id": "JHSZiutL6j1o",
        "outputId": "334f0d28-181c-41ab-f20e-1183040a262d"
      },
      "outputs": [
        {
          "output_type": "execute_result",
          "data": {
            "text/plain": [
              "(16, tensor([[0.0122, 0.4470, 0.5623, 0.6164],\n",
              "         [0.6973, 0.6932, 0.5668, 0.6403],\n",
              "         [0.6537, 0.0332, 0.1958, 0.5780],\n",
              "         [0.2774, 0.7467, 0.0558, 0.7597],\n",
              "         [0.7783, 0.0683, 0.5260, 0.9319],\n",
              "         [0.9205, 0.8404, 0.3345, 0.7084],\n",
              "         [0.1929, 0.3092, 0.8108, 0.1082],\n",
              "         [0.9845, 0.1662, 0.6436, 0.7698],\n",
              "         [0.9375, 0.2740, 0.4878, 0.7039],\n",
              "         [0.3924, 0.2923, 0.3302, 0.1988],\n",
              "         [0.4550, 0.9976, 0.7163, 0.4917],\n",
              "         [0.4212, 0.4921, 0.1442, 0.9057],\n",
              "         [0.0683, 0.8728, 0.7689, 0.5213],\n",
              "         [0.8287, 0.0187, 0.2975, 0.3854],\n",
              "         [0.7590, 0.1422, 0.8839, 0.8534],\n",
              "         [0.7315, 0.2311, 0.7995, 0.3942]], dtype=torch.float64))"
            ]
          },
          "metadata": {},
          "execution_count": 39
        }
      ],
      "source": [
        "for x, y in some_loader:\n",
        "    break\n",
        "    \n",
        "len(x), x"
      ]
    },
    {
      "cell_type": "code",
      "execution_count": null,
      "metadata": {
        "colab": {
          "base_uri": "https://localhost:8080/"
        },
        "id": "WeFsi2qq6j1o",
        "outputId": "e7d01ef0-c6e4-4e22-e87d-1df1ec9f65f7"
      },
      "outputs": [
        {
          "output_type": "execute_result",
          "data": {
            "text/plain": [
              "15"
            ]
          },
          "metadata": {},
          "execution_count": 40
        }
      ],
      "source": [
        "for x, y in some_loader:\n",
        "    pass\n",
        "\n",
        "len(x)"
      ]
    },
    {
      "cell_type": "code",
      "execution_count": null,
      "metadata": {
        "colab": {
          "base_uri": "https://localhost:8080/"
        },
        "id": "KV4A6tQl6j1o",
        "outputId": "f7a5d9be-f67c-4f5b-afe2-289352c1ed12"
      },
      "outputs": [
        {
          "output_type": "execute_result",
          "data": {
            "text/plain": [
              "15"
            ]
          },
          "metadata": {},
          "execution_count": 41
        }
      ],
      "source": [
        "# почему 13?\n",
        "# потому что количество наших данных нацело не делится на 16\n",
        "# и поэтому последний батч меньше 16-ти\n",
        "len(some_dataset) % 16"
      ]
    },
    {
      "cell_type": "markdown",
      "metadata": {
        "id": "EQt6XFUs6j1o"
      },
      "source": [
        "# А зачем?"
      ]
    },
    {
      "cell_type": "code",
      "execution_count": null,
      "metadata": {
        "id": "xZnWPnEE6j1o"
      },
      "outputs": [],
      "source": [
        "class ToyDataset(Dataset):\n",
        "    \n",
        "    def __init__(self, data_x, data_y):\n",
        "        \n",
        "        super().__init__()\n",
        "        \n",
        "        self.data_x = data_x\n",
        "        self.data_y = data_y\n",
        "        \n",
        "    def __len__(self):\n",
        "        \n",
        "        # Нужно обязательно определить эту функцию\n",
        "        # Должна возвращать размер датасета\n",
        "        \n",
        "        return len(self.data_x)\n",
        "    \n",
        "    @staticmethod\n",
        "    def add_pow_features(x, n=2):\n",
        "        \n",
        "        return np.concatenate([x, x ** n]) \n",
        "    \n",
        "    @staticmethod\n",
        "    def add_log_features(x):\n",
        "        \n",
        "        return np.concatenate([x, np.log(x)]) \n",
        "    \n",
        "    def __getitem__(self, idx):\n",
        "        \n",
        "        # Еще нужно определить этот метод\n",
        "        # То есть как мы будем доставать наши данные по индексу\n",
        "        \n",
        "        x = self.data_x[idx]\n",
        "        \n",
        "        # внутри датасета мы можем делать все что угодно с нашими данными\n",
        "        # например выше определим функции, которые добавляют степенные фичи\n",
        "        x = self.add_pow_features(x, n=2)\n",
        "        x = self.add_pow_features(x, n=3)\n",
        "        # и еще возьмем логарифмические фичи\n",
        "        x = self.add_log_features(x)\n",
        "        \n",
        "        y = self.data_y[idx]\n",
        "        \n",
        "        return x, y"
      ]
    },
    {
      "cell_type": "code",
      "execution_count": null,
      "metadata": {
        "id": "pSdwCT5T6j1p"
      },
      "outputs": [],
      "source": [
        "toy_dataset = ToyDataset(some_data_x, some_data_y)"
      ]
    },
    {
      "cell_type": "code",
      "execution_count": null,
      "metadata": {
        "id": "TD8epq3h6j1p"
      },
      "outputs": [],
      "source": [
        "toy_loader = DataLoader(dataset=toy_dataset, batch_size=128)"
      ]
    },
    {
      "cell_type": "code",
      "execution_count": null,
      "metadata": {
        "id": "BVJZLmm96j1p"
      },
      "outputs": [],
      "source": [
        "for x, y in toy_loader:\n",
        "    break"
      ]
    },
    {
      "cell_type": "code",
      "execution_count": null,
      "metadata": {
        "colab": {
          "base_uri": "https://localhost:8080/"
        },
        "id": "3Q2wDj5G6j1p",
        "outputId": "5308ff10-91f2-4acb-ca3b-2d721cd06c54"
      },
      "outputs": [
        {
          "output_type": "execute_result",
          "data": {
            "text/plain": [
              "torch.Size([128, 32])"
            ]
          },
          "metadata": {},
          "execution_count": 46
        }
      ],
      "source": [
        "x.shape"
      ]
    },
    {
      "cell_type": "code",
      "execution_count": null,
      "metadata": {
        "colab": {
          "base_uri": "https://localhost:8080/"
        },
        "id": "Si9JyJcM6j1p",
        "outputId": "5a62f53f-4d6a-4bc8-ff63-cb441fd8aa57"
      },
      "outputs": [
        {
          "output_type": "execute_result",
          "data": {
            "text/plain": [
              "tensor([[  0.4642,   0.1857,   0.5859,  ..., -10.1022,  -3.2076,  -7.3478],\n",
              "        [  0.3482,   0.7485,   0.5575,  ...,  -1.7377,  -3.5057,  -0.0732],\n",
              "        [  0.4356,   0.7453,   0.2660,  ...,  -1.7638,  -7.9449,  -2.4620],\n",
              "        ...,\n",
              "        [  0.8263,   0.4219,   0.1919,  ...,  -5.1780,  -9.9036,  -8.4179],\n",
              "        [  0.8619,   0.9273,   0.1206,  ...,  -0.4528, -12.6915,  -3.4689],\n",
              "        [  0.0228,   0.7532,   0.3169,  ...,  -1.7007,  -6.8944,  -4.2687]],\n",
              "       dtype=torch.float64)"
            ]
          },
          "metadata": {},
          "execution_count": 47
        }
      ],
      "source": [
        "# заметим, что мы сразу получаем торчовый формат данных\n",
        "x"
      ]
    },
    {
      "cell_type": "code",
      "execution_count": null,
      "metadata": {
        "colab": {
          "base_uri": "https://localhost:8080/"
        },
        "id": "W84-d5qH6j1q",
        "outputId": "3d19d157-5745-4d40-fa1c-81d4389ad570"
      },
      "outputs": [
        {
          "output_type": "execute_result",
          "data": {
            "text/plain": [
              "tensor([2, 1, 2, 2, 1, 1, 2, 2, 2, 1, 1, 1, 1, 0, 1, 0, 0, 0, 1, 2, 0, 0, 2, 2,\n",
              "        0, 1, 1, 1, 0, 1, 0, 2, 2, 0, 0, 2, 1, 0, 0, 0, 1, 2, 2, 1, 2, 2, 2, 1,\n",
              "        0, 0, 1, 2, 2, 2, 0, 0, 1, 0, 2, 2, 0, 2, 1, 1, 0, 1, 0, 0, 2, 1, 0, 2,\n",
              "        0, 0, 2, 0, 2, 0, 2, 2, 1, 1, 0, 2, 1, 0, 1, 2, 2, 1, 0, 1, 2, 2, 0, 1,\n",
              "        0, 0, 1, 2, 1, 0, 0, 1, 0, 1, 0, 0, 0, 1, 2, 1, 0, 2, 2, 1, 1, 1, 1, 2,\n",
              "        1, 1, 0, 1, 0, 2, 1, 1])"
            ]
          },
          "metadata": {},
          "execution_count": 48
        }
      ],
      "source": [
        "y"
      ]
    },
    {
      "cell_type": "markdown",
      "metadata": {
        "id": "mTgsEY9e6j1q"
      },
      "source": [
        "# Если вы ничего здесь не понимаете, то вернитесь в конец первой домашки, там все объясняется"
      ]
    },
    {
      "cell_type": "code",
      "execution_count": null,
      "metadata": {
        "id": "ZcUHedM36j1q"
      },
      "outputs": [],
      "source": [
        "model = torch.nn.Sequential(torch.nn.Linear(32, 16),\n",
        "                            torch.nn.ReLU(),\n",
        "                            torch.nn.Linear(16, 8),\n",
        "                            torch.nn.ReLU(),\n",
        "                            torch.nn.Linear(8, 3))\n",
        "\n",
        "criterion = torch.nn.CrossEntropyLoss()"
      ]
    },
    {
      "cell_type": "code",
      "execution_count": null,
      "metadata": {
        "colab": {
          "base_uri": "https://localhost:8080/"
        },
        "id": "XiR1jqpW6j1q",
        "outputId": "2fc2382d-3735-4ca5-f38a-f583ea5a99cd"
      },
      "outputs": [
        {
          "output_type": "execute_result",
          "data": {
            "text/plain": [
              "1.2280049324035645"
            ]
          },
          "metadata": {},
          "execution_count": 50
        }
      ],
      "source": [
        "with torch.no_grad():\n",
        "\n",
        "    prediction = model(x.float())\n",
        "\n",
        "    loss = criterion(prediction, y)\n",
        "    \n",
        "loss.item()"
      ]
    },
    {
      "cell_type": "markdown",
      "metadata": {
        "id": "233bexrY6j1q"
      },
      "source": [
        "# Боевые датасеты"
      ]
    },
    {
      "cell_type": "code",
      "execution_count": null,
      "metadata": {
        "id": "_Ev0J14k6j1q"
      },
      "outputs": [],
      "source": [
        "class CBOWDataset(Dataset):\n",
        "\n",
        "    def __init__(self,\n",
        "                 corpus,\n",
        "                 word2index,\n",
        "                 window=2,\n",
        "                 unk_token='UNK',\n",
        "                 pad_token='PAD',\n",
        "                 collect_verbose=True):\n",
        "\n",
        "        self.corpus = corpus\n",
        "        self.word2index = word2index\n",
        "        self.index2word = {value: key for key, value in self.word2index.items()}\n",
        "        self.window = window\n",
        "\n",
        "        self.unk_token = unk_token\n",
        "        self.unk_index = self.word2index[self.unk_token]\n",
        "\n",
        "        self.pad_token = pad_token\n",
        "        self.pad_index = len(self.word2index)\n",
        "\n",
        "        self.collect_verbose = collect_verbose\n",
        "\n",
        "        self.data = []\n",
        "\n",
        "        self.collect_data()\n",
        "\n",
        "    def __len__(self):\n",
        "\n",
        "        return len(self.data)\n",
        "\n",
        "    def _split_function(self, tokenized_text):\n",
        "\n",
        "        splits = []\n",
        "\n",
        "        for n in range(len(tokenized_text)):\n",
        "            left_context = tokenized_text[np.maximum(n - self.window, 0):n]\n",
        "            left_context = ([self.pad_index] * (self.window - len(left_context))) + left_context\n",
        "\n",
        "            central_word = tokenized_text[n]\n",
        "\n",
        "            right_context = tokenized_text[n + 1:n + self.window + 1]\n",
        "            right_context = right_context + ([self.pad_index] * (self.window - len(right_context)))\n",
        "\n",
        "            splits.append((left_context + right_context, central_word))\n",
        "\n",
        "        return splits\n",
        "\n",
        "    def indexing(self, tokenized_text):\n",
        "\n",
        "        return [self.word2index[token] if token in self.word2index else self.unk_index for token in tokenized_text]\n",
        "\n",
        "    def collect_data(self):\n",
        "\n",
        "        corpus = tqdm(self.corpus, disable=not self.collect_verbose)\n",
        "\n",
        "        for tokenized_text in corpus:\n",
        "            indexed_text = self.indexing(tokenized_text)\n",
        "            cbow_examples = self._split_function(indexed_text)\n",
        "\n",
        "            self.data.extend(cbow_examples)\n",
        "\n",
        "    def __getitem__(self, idx):\n",
        "\n",
        "        context, central_word = self.data[idx]\n",
        "\n",
        "        context = torch.Tensor(context).long()\n",
        "\n",
        "        return context, central_word"
      ]
    },
    {
      "cell_type": "markdown",
      "metadata": {
        "id": "LyDDsCEU6j1r"
      },
      "source": [
        "# Мы будем учить модель Skipgram\n",
        "Реализуйте читалку данных"
      ]
    },
    {
      "cell_type": "code",
      "execution_count": null,
      "metadata": {
        "id": "5041h1RU6j1r"
      },
      "outputs": [],
      "source": [
        "class SkipgramDataset(Dataset):\n",
        "\n",
        "    def __init__(self,\n",
        "                 corpus,\n",
        "                 word2index,\n",
        "                 window=2,\n",
        "                 unk_token='UNK',\n",
        "                 collect_verbose=True):\n",
        "\n",
        "        self.corpus = corpus\n",
        "        self.word2index = word2index\n",
        "        self.index2word = {value: key for key, value in self.word2index.items()}\n",
        "        self.window = window\n",
        "\n",
        "        self.unk_token = unk_token\n",
        "        self.unk_index = self.word2index[self.unk_token]\n",
        "\n",
        "\n",
        "        self.collect_verbose = collect_verbose\n",
        "\n",
        "        self.data = []\n",
        "\n",
        "        self.collect_data()\n",
        "\n",
        "    def __len__(self):\n",
        "\n",
        "        return len(self.data)\n",
        "\n",
        "    def _split_function(self, tokenized_text):\n",
        "        \n",
        "        # CODE\n",
        "        splits = []\n",
        "    \n",
        "        for i in range(self.window):\n",
        "            splits.extend(list(zip(tokenized_text[i+1:], tokenized_text)))\n",
        "            splits.extend(list(zip(tokenized_text, tokenized_text[i+1:])))\n",
        "        return splits\n",
        "\n",
        "    def indexing(self, tokenized_text):\n",
        "\n",
        "        return [self.word2index[token] if token in self.word2index else self.unk_index for token in tokenized_text]\n",
        "\n",
        "    def collect_data(self):\n",
        "\n",
        "        corpus = tqdm(self.corpus, disable=not self.collect_verbose)\n",
        "\n",
        "        for tokenized_text in corpus:\n",
        "            indexed_text = self.indexing(tokenized_text)\n",
        "            skipgram_examples = self._split_function(indexed_text)\n",
        "\n",
        "            self.data.extend(skipgram_examples)\n",
        "\n",
        "    def __getitem__(self, idx):\n",
        "        \n",
        "        context, central_word = self.data[idx]\n",
        "\n",
        "\n",
        "        return context, central_word"
      ]
    },
    {
      "cell_type": "code",
      "execution_count": null,
      "metadata": {
        "id": "NBkxPHnD6j1s"
      },
      "outputs": [],
      "source": [
        "# можете положить SkipgramDataset в отдельный файлик, например word2vec_utils и относительным импортом достать его \n",
        "#from .word2vec_utils import SkipgramDataset"
      ]
    },
    {
      "cell_type": "code",
      "execution_count": null,
      "metadata": {
        "scrolled": true,
        "colab": {
          "base_uri": "https://localhost:8080/"
        },
        "id": "c6MSG9446j1s",
        "outputId": "ac73b343-f9ba-45f0-aa9a-4916757d6070"
      },
      "outputs": [
        {
          "output_type": "stream",
          "name": "stderr",
          "text": [
            "100%|██████████| 100000/100000 [00:00<00:00, 123083.75it/s]\n"
          ]
        }
      ],
      "source": [
        "dataset = SkipgramDataset(corpus, word2index)"
      ]
    },
    {
      "cell_type": "code",
      "execution_count": null,
      "metadata": {
        "id": "YQv-z9Jx6j1s"
      },
      "outputs": [],
      "source": [
        "BATCH_SIZE = 512"
      ]
    },
    {
      "cell_type": "code",
      "execution_count": null,
      "metadata": {
        "id": "arEMpQqY6j1t"
      },
      "outputs": [],
      "source": [
        "dataset_loader = DataLoader(dataset, shuffle=True, batch_size=BATCH_SIZE)"
      ]
    },
    {
      "cell_type": "code",
      "execution_count": null,
      "metadata": {
        "id": "VQpUvSu96j1t"
      },
      "outputs": [],
      "source": [
        "for x, y in dataset_loader:\n",
        "    break"
      ]
    },
    {
      "cell_type": "code",
      "execution_count": null,
      "metadata": {
        "colab": {
          "base_uri": "https://localhost:8080/"
        },
        "id": "6_FyhUtv6j1t",
        "outputId": "f7907b4d-c6ac-4f70-81ce-03fcdfb53eb5"
      },
      "outputs": [
        {
          "output_type": "execute_result",
          "data": {
            "text/plain": [
              "tensor([ 946,   32,  841,  301, 1032])"
            ]
          },
          "metadata": {},
          "execution_count": 64
        }
      ],
      "source": [
        "x[:5]"
      ]
    },
    {
      "cell_type": "code",
      "execution_count": null,
      "metadata": {
        "colab": {
          "base_uri": "https://localhost:8080/"
        },
        "id": "PZeiN-SH6j1t",
        "outputId": "8d646471-8ce9-4daa-c459-b4c88b1f7035"
      },
      "outputs": [
        {
          "output_type": "execute_result",
          "data": {
            "text/plain": [
              "tensor([1168, 9181, 1427,  697,   44])"
            ]
          },
          "metadata": {},
          "execution_count": 65
        }
      ],
      "source": [
        "y[:5]"
      ]
    },
    {
      "cell_type": "code",
      "execution_count": null,
      "metadata": {
        "colab": {
          "base_uri": "https://localhost:8080/"
        },
        "id": "SrCbIrR_6j1t",
        "outputId": "817a56af-a1d5-4311-e68a-40118c4c36e8"
      },
      "outputs": [
        {
          "output_type": "execute_result",
          "data": {
            "text/plain": [
              "(torch.Size([512]), torch.Size([512]))"
            ]
          },
          "metadata": {},
          "execution_count": 66
        }
      ],
      "source": [
        "x.shape, y.shape"
      ]
    },
    {
      "cell_type": "code",
      "execution_count": null,
      "metadata": {
        "id": "z-C1DCzd6j1t"
      },
      "outputs": [],
      "source": [
        "class CBOW(torch.nn.Module):\n",
        "    \n",
        "    def __init__(self, vocab_size, embedding_dim, pad_index):\n",
        "        \n",
        "        super().__init__()\n",
        "        \n",
        "        if pad_index > 0:\n",
        "            vocab_size += 1\n",
        "        \n",
        "        self.in_embedding = torch.nn.Embedding(num_embeddings=vocab_size, \n",
        "                                               embedding_dim=embedding_dim,\n",
        "                                               padding_idx=pad_index)\n",
        "        \n",
        "        self.out_embedding = torch.nn.Linear(in_features=embedding_dim,\n",
        "                                             out_features=vocab_size, bias=False)\n",
        "        \n",
        "    def forward(self, x):\n",
        "        \n",
        "        x = self.in_embedding(x).sum(dim=-2)\n",
        "        x = self.out_embedding(x)\n",
        "        \n",
        "        return x"
      ]
    },
    {
      "cell_type": "markdown",
      "metadata": {
        "id": "NzYVKJ336j1u"
      },
      "source": [
        "# Мы будем учить модель Skipgram\n",
        "Реализуйте ее"
      ]
    },
    {
      "cell_type": "code",
      "execution_count": null,
      "metadata": {
        "id": "_PE8NHbn6j1u"
      },
      "outputs": [],
      "source": [
        "# CODE\n",
        "class SkipGram(torch.nn.Module):\n",
        "    def __init__(self, vocab_size, embedding_dim):\n",
        "        \n",
        "        super().__init__()\n",
        "        \n",
        "        \n",
        "        self.in_embedding = torch.nn.Embedding(num_embeddings=vocab_size, \n",
        "                                               embedding_dim=embedding_dim)\n",
        "        \n",
        "        self.out_embedding = torch.nn.Linear(in_features=embedding_dim,\n",
        "                                             out_features=vocab_size, bias=False)\n",
        "        \n",
        "    def forward(self, x):\n",
        "        \n",
        "        x = self.in_embedding(x)\n",
        "        x = self.out_embedding(x)\n",
        "        \n",
        "        return x"
      ]
    },
    {
      "cell_type": "code",
      "execution_count": null,
      "metadata": {
        "id": "pBmN8KYF6j1u"
      },
      "outputs": [],
      "source": [
        "#from word2vec_utils import SkipGram"
      ]
    },
    {
      "cell_type": "code",
      "execution_count": null,
      "metadata": {
        "id": "Z6JjaAHk6j1u"
      },
      "outputs": [],
      "source": [
        "# размерность эмбеддинга\n",
        "# маленькая, чтобы мы могли недолго поучить ворд2век и увидеть результаты\n",
        "EMBEDDING_DIM = 20"
      ]
    },
    {
      "cell_type": "code",
      "execution_count": null,
      "metadata": {
        "id": "b2G7SYKq6j1u"
      },
      "outputs": [],
      "source": [
        "model = SkipGram(vocab_size=len(word2index), embedding_dim=EMBEDDING_DIM)"
      ]
    },
    {
      "cell_type": "code",
      "execution_count": null,
      "metadata": {
        "colab": {
          "base_uri": "https://localhost:8080/"
        },
        "id": "bQD9N77z6j1v",
        "outputId": "59963a08-2808-4560-e7b2-0524ffb28ffe"
      },
      "outputs": [
        {
          "output_type": "execute_result",
          "data": {
            "text/plain": [
              "torch.Size([512, 13076])"
            ]
          },
          "metadata": {},
          "execution_count": 72
        }
      ],
      "source": [
        "with torch.no_grad():\n",
        "    pred = model(x)\n",
        "\n",
        "pred.shape"
      ]
    },
    {
      "cell_type": "code",
      "execution_count": null,
      "metadata": {
        "id": "hntdpbv46j1v"
      },
      "outputs": [],
      "source": [
        "optimizer = torch.optim.Adam(params=model.parameters(), lr=0.0001)\n",
        "\n",
        "# aka loss function\n",
        "criterion = torch.nn.CrossEntropyLoss()"
      ]
    },
    {
      "cell_type": "markdown",
      "metadata": {
        "id": "wBMQvZlW6j1v"
      },
      "source": [
        "# Допишите обучалку"
      ]
    },
    {
      "cell_type": "code",
      "execution_count": null,
      "metadata": {
        "colab": {
          "base_uri": "https://localhost:8080/"
        },
        "id": "r4yfppHP6j1v",
        "outputId": "dc36a288-f968-44d1-b1e3-38bdf2ed2bcb"
      },
      "outputs": [
        {
          "output_type": "stream",
          "name": "stderr",
          "text": [
            "Epoch 1:  79%|███████▉  | 2365952/2983124 [06:40<01:44, 5913.15it/s, loss=7.46]\n"
          ]
        }
      ],
      "source": [
        "epochs = 3\n",
        "\n",
        "losses = []\n",
        "\n",
        "for n_epoch in range(epochs):\n",
        "\n",
        "    try:\n",
        "\n",
        "        progress_bar = tqdm(total=len(dataset_loader.dataset), desc='Epoch {}'.format(n_epoch + 1))\n",
        "\n",
        "        for x, y in dataset_loader:\n",
        "            optimizer.zero_grad()\n",
        "\n",
        "            # CODE\n",
        "            pred = model(x)\n",
        "            loss = criterion(pred, y)\n",
        "            \n",
        "            # CODE\n",
        "            losses.append(loss.item())\n",
        "            \n",
        "            loss.backward()\n",
        "            optimizer.step()\n",
        "\n",
        "            progress_bar.set_postfix(loss=np.mean(losses[-100:]))\n",
        "\n",
        "            progress_bar.update(x.shape[0])\n",
        "\n",
        "        progress_bar.close()\n",
        "\n",
        "    except KeyboardInterrupt:\n",
        "\n",
        "        progress_bar.close()\n",
        "        break"
      ]
    },
    {
      "cell_type": "code",
      "execution_count": null,
      "metadata": {
        "colab": {
          "base_uri": "https://localhost:8080/",
          "height": 910
        },
        "id": "AfEdcDfQ6j1v",
        "outputId": "15b85bd3-7492-4d40-c3a4-1d5314a06934"
      },
      "outputs": [
        {
          "output_type": "execute_result",
          "data": {
            "text/plain": [
              "[<matplotlib.lines.Line2D at 0x7fab2bec2d90>]"
            ]
          },
          "metadata": {},
          "execution_count": 99
        },
        {
          "output_type": "display_data",
          "data": {
            "text/plain": [
              "<Figure size 1080x1080 with 1 Axes>"
            ],
            "image/png": "[encoded data removed]"
          },
          "metadata": {
            "needs_background": "light"
          }
        }
      ],
      "source": [
        "plt.title('SkipGram Training Process')\n",
        "plt.xlabel('Itearations')\n",
        "plt.ylabel('Loss')\n",
        "plt.grid()\n",
        "plt.plot(losses)"
      ]
    },
    {
      "cell_type": "code",
      "execution_count": null,
      "metadata": {
        "id": "JqkGQeKG6j1w"
      },
      "outputs": [],
      "source": [
        "# проверка, что хоть что-то выучилось\n",
        "assert np.mean(losses[-1000:]) < 7.5"
      ]
    },
    {
      "cell_type": "code",
      "execution_count": null,
      "metadata": {
        "id": "DUlGyi9y6j1w"
      },
      "outputs": [],
      "source": [
        "embedding_matrix = model.in_embedding.weight.detach()"
      ]
    },
    {
      "cell_type": "code",
      "execution_count": null,
      "metadata": {
        "id": "aM1BLHZ66j1w"
      },
      "outputs": [],
      "source": [
        "def cos_sim(embedding_matrix, token2id, word1, word2):\n",
        "    \n",
        "    i1 = token2id.get(word1, 1)\n",
        "    i2 = token2id.get(word2, 1)\n",
        "    \n",
        "    v1, v2 = embedding_matrix[i1], embedding_matrix[i2]\n",
        "    \n",
        "    v1_n = v1.div(v1.norm(keepdim=True))\n",
        "    v2_n = v2.div(v2.norm(keepdim=True))\n",
        "    \n",
        "    similarity = torch.dot(v1_n, v2_n).item()\n",
        "    \n",
        "    return similarity"
      ]
    },
    {
      "cell_type": "markdown",
      "metadata": {
        "id": "I9raeSa86j1w"
      },
      "source": [
        "# Косинусная близость\n",
        "От 0 до 1, где 0 - вектора абсолютно разные, где 1 - идентичные."
      ]
    },
    {
      "cell_type": "code",
      "execution_count": null,
      "metadata": {
        "colab": {
          "base_uri": "https://localhost:8080/"
        },
        "id": "0XMPPe-q6j1w",
        "outputId": "26843d83-84d1-4253-9393-146142e930f2"
      },
      "outputs": [
        {
          "output_type": "execute_result",
          "data": {
            "text/plain": [
              "0.35256195068359375"
            ]
          },
          "metadata": {},
          "execution_count": 103
        }
      ],
      "source": [
        "cos_sim(embedding_matrix, word2index, 'день', 'месяц')"
      ]
    },
    {
      "cell_type": "code",
      "execution_count": null,
      "metadata": {
        "colab": {
          "base_uri": "https://localhost:8080/"
        },
        "id": "Ecycpf6M6j1w",
        "outputId": "20c271e6-a786-4573-d62b-7faf76e71161"
      },
      "outputs": [
        {
          "output_type": "execute_result",
          "data": {
            "text/plain": [
              "0.20084023475646973"
            ]
          },
          "metadata": {},
          "execution_count": 104
        }
      ],
      "source": [
        "cos_sim(embedding_matrix, word2index, 'минута', 'месяц')"
      ]
    },
    {
      "cell_type": "code",
      "execution_count": null,
      "metadata": {
        "colab": {
          "base_uri": "https://localhost:8080/"
        },
        "id": "5E4aCRA46j1w",
        "outputId": "a7715930-69c3-41dc-f2a4-8e73b4757ad5"
      },
      "outputs": [
        {
          "output_type": "execute_result",
          "data": {
            "text/plain": [
              "0.4080454707145691"
            ]
          },
          "metadata": {},
          "execution_count": 105
        }
      ],
      "source": [
        "cos_sim(embedding_matrix, word2index, 'сотрудник', 'сотрудница')"
      ]
    },
    {
      "cell_type": "code",
      "execution_count": null,
      "metadata": {
        "colab": {
          "base_uri": "https://localhost:8080/"
        },
        "id": "MLbpIH3U6j1x",
        "outputId": "b68575a2-1240-4519-c526-814d98797075"
      },
      "outputs": [
        {
          "output_type": "execute_result",
          "data": {
            "text/plain": [
              "0.4465460479259491"
            ]
          },
          "metadata": {},
          "execution_count": 106
        }
      ],
      "source": [
        "cos_sim(embedding_matrix, word2index, 'вклад', 'перевод')"
      ]
    },
    {
      "cell_type": "code",
      "execution_count": null,
      "metadata": {
        "colab": {
          "base_uri": "https://localhost:8080/",
          "height": 36
        },
        "id": "MXztQBDC6j1x",
        "outputId": "e1c485b6-e748-45a8-d18f-3731d59b73af"
      },
      "outputs": [
        {
          "output_type": "execute_result",
          "data": {
            "text/plain": [
              "'Косинусная близость слова \"день\" к случайному выбраному слову \"ярцевский\" равна 0.033'"
            ],
            "application/vnd.google.colaboratory.intrinsic+json": {
              "type": "string"
            }
          },
          "metadata": {},
          "execution_count": 107
        }
      ],
      "source": [
        "random_word = random.choice(list(word2index.keys()))\n",
        "sim = cos_sim(embedding_matrix, word2index, 'день', random_word)\n",
        "'Косинусная близость слова \"день\" к случайному выбраному слову \"{}\" равна {:.3f}'.format(random_word, sim)"
      ]
    },
    {
      "cell_type": "code",
      "execution_count": null,
      "metadata": {
        "id": "A1vfP7a66j1x"
      },
      "outputs": [],
      "source": [
        "freq = {}\n",
        "\n",
        "for text in corpus:\n",
        "    for token in text:\n",
        "        if token in freq:\n",
        "            freq[token] += 1\n",
        "        else:\n",
        "            freq[token] = 1"
      ]
    },
    {
      "cell_type": "code",
      "execution_count": null,
      "metadata": {
        "id": "sBOZnVGs6j1x"
      },
      "outputs": [],
      "source": [
        "sorted_freq = [(k, freq[k]) for k in sorted(freq, key=freq.get, reverse=True)]\n",
        "top_sorted_freq = sorted_freq[0:200]"
      ]
    },
    {
      "cell_type": "code",
      "execution_count": null,
      "metadata": {
        "colab": {
          "base_uri": "https://localhost:8080/"
        },
        "id": "o9zLqnOk6j1x",
        "outputId": "067522ad-59d0-4103-ae2e-dc4daf73c111"
      },
      "outputs": [
        {
          "output_type": "stream",
          "name": "stderr",
          "text": [
            "/usr/local/lib/python3.7/dist-packages/sklearn/manifold/_t_sne.py:793: FutureWarning: The default learning rate in TSNE will change from 200.0 to 'auto' in 1.2.\n",
            "  FutureWarning,\n"
          ]
        },
        {
          "output_type": "stream",
          "name": "stdout",
          "text": [
            "[t-SNE] Computing 91 nearest neighbors...\n",
            "[t-SNE] Indexed 13076 samples in 0.000s...\n",
            "[t-SNE] Computed neighbors for 13076 samples in 3.498s...\n",
            "[t-SNE] Computed conditional probabilities for sample 1000 / 13076\n",
            "[t-SNE] Computed conditional probabilities for sample 2000 / 13076\n",
            "[t-SNE] Computed conditional probabilities for sample 3000 / 13076\n",
            "[t-SNE] Computed conditional probabilities for sample 4000 / 13076\n",
            "[t-SNE] Computed conditional probabilities for sample 5000 / 13076\n",
            "[t-SNE] Computed conditional probabilities for sample 6000 / 13076\n",
            "[t-SNE] Computed conditional probabilities for sample 7000 / 13076\n",
            "[t-SNE] Computed conditional probabilities for sample 8000 / 13076\n",
            "[t-SNE] Computed conditional probabilities for sample 9000 / 13076\n",
            "[t-SNE] Computed conditional probabilities for sample 10000 / 13076\n",
            "[t-SNE] Computed conditional probabilities for sample 11000 / 13076\n",
            "[t-SNE] Computed conditional probabilities for sample 12000 / 13076\n",
            "[t-SNE] Computed conditional probabilities for sample 13000 / 13076\n",
            "[t-SNE] Computed conditional probabilities for sample 13076 / 13076\n",
            "[t-SNE] Mean sigma: 1.209596\n",
            "[t-SNE] Computed conditional probabilities in 0.437s\n"
          ]
        },
        {
          "output_type": "stream",
          "name": "stderr",
          "text": [
            "/usr/local/lib/python3.7/dist-packages/sklearn/manifold/_t_sne.py:986: FutureWarning: The PCA initialization in TSNE will change to have the standard deviation of PC1 equal to 1e-4 in 1.2. This will ensure better convergence.\n",
            "  FutureWarning,\n"
          ]
        },
        {
          "output_type": "stream",
          "name": "stdout",
          "text": [
            "[t-SNE] Iteration 50: error = 98.8738327, gradient norm = 0.0000006 (50 iterations in 8.474s)\n",
            "[t-SNE] Iteration 100: error = 98.8747482, gradient norm = 0.0000000 (50 iterations in 2.576s)\n",
            "[t-SNE] Iteration 100: gradient norm 0.000000. Finished.\n",
            "[t-SNE] KL divergence after 100 iterations with early exaggeration: 98.874748\n",
            "[t-SNE] Iteration 150: error = 5.7530603, gradient norm = 0.0000537 (50 iterations in 3.739s)\n",
            "[t-SNE] Iteration 200: error = 4.9887486, gradient norm = 0.0006801 (50 iterations in 6.482s)\n",
            "[t-SNE] Iteration 250: error = 4.8711972, gradient norm = 0.0003814 (50 iterations in 4.098s)\n",
            "[t-SNE] Iteration 300: error = 4.7837906, gradient norm = 0.0002665 (50 iterations in 4.016s)\n",
            "[t-SNE] Iteration 350: error = 4.7160273, gradient norm = 0.0002009 (50 iterations in 3.977s)\n",
            "[t-SNE] Iteration 400: error = 4.6619973, gradient norm = 0.0001602 (50 iterations in 3.927s)\n",
            "[t-SNE] Iteration 450: error = 4.6181135, gradient norm = 0.0001298 (50 iterations in 3.897s)\n",
            "[t-SNE] Iteration 500: error = 4.5814848, gradient norm = 0.0001048 (50 iterations in 3.904s)\n",
            "[t-SNE] Iteration 550: error = 4.5504885, gradient norm = 0.0000903 (50 iterations in 3.919s)\n",
            "[t-SNE] Iteration 600: error = 4.5242348, gradient norm = 0.0000788 (50 iterations in 3.992s)\n",
            "[t-SNE] Iteration 650: error = 4.5018282, gradient norm = 0.0000677 (50 iterations in 4.019s)\n",
            "[t-SNE] Iteration 700: error = 4.4829159, gradient norm = 0.0000606 (50 iterations in 3.972s)\n",
            "[t-SNE] Iteration 750: error = 4.4667597, gradient norm = 0.0000537 (50 iterations in 3.994s)\n",
            "[t-SNE] Iteration 800: error = 4.4528279, gradient norm = 0.0000497 (50 iterations in 3.976s)\n",
            "[t-SNE] Iteration 850: error = 4.4407749, gradient norm = 0.0000447 (50 iterations in 4.003s)\n",
            "[t-SNE] Iteration 900: error = 4.4301519, gradient norm = 0.0000414 (50 iterations in 5.134s)\n",
            "[t-SNE] Iteration 950: error = 4.4208078, gradient norm = 0.0000395 (50 iterations in 4.003s)\n",
            "[t-SNE] Iteration 1000: error = 4.4126630, gradient norm = 0.0000382 (50 iterations in 4.043s)\n",
            "[t-SNE] KL divergence after 1000 iterations: 4.412663\n"
          ]
        }
      ],
      "source": [
        "tsne = TSNE(n_components=2, init='pca', random_state=42, verbose=2)\n",
        "reduced = tsne.fit_transform(embedding_matrix)"
      ]
    },
    {
      "cell_type": "code",
      "execution_count": null,
      "metadata": {
        "id": "THzNbJn66j1x"
      },
      "outputs": [],
      "source": [
        "top_words = [a for a,_ in top_sorted_freq]"
      ]
    },
    {
      "cell_type": "code",
      "execution_count": null,
      "metadata": {
        "id": "38GFWwsZ6j1x"
      },
      "outputs": [],
      "source": [
        "inds = [word2index[word] for word in top_words]\n",
        "x_coords = [coords[0] for coords in reduced[inds]]\n",
        "y_coords = [coords[1] for coords in reduced[inds]]"
      ]
    },
    {
      "cell_type": "code",
      "execution_count": null,
      "metadata": {
        "colab": {
          "base_uri": "https://localhost:8080/",
          "height": 863
        },
        "id": "o2hhDyXY6j1y",
        "outputId": "8d635cc1-e6f6-4b37-cc61-02c7dbe6b3c1"
      },
      "outputs": [
        {
          "output_type": "display_data",
          "data": {
            "text/plain": [
              "<Figure size 1080x1080 with 1 Axes>"
            ],
            "image/png": "[encoded data removed]"
          },
          "metadata": {
            "needs_background": "light"
          }
        }
      ],
      "source": [
        "for (x, y, word) in zip(x_coords, y_coords, top_words):\n",
        "    plt.scatter(x, y, marker='.', color='blue')\n",
        "    plt.text(x+0.01, y+0.01, word, fontsize=9)\n",
        "plt.show()"
      ]
    },
    {
      "cell_type": "code",
      "execution_count": null,
      "metadata": {
        "id": "YHKqwKdI6j1y"
      },
      "outputs": [],
      "source": [
        "import pandas as pd"
      ]
    },
    {
      "cell_type": "markdown",
      "source": [
        "# Оценка\n",
        "1. Вы добрались сюда и все работает, значит уже получили 7 баллов.\n",
        "2. 8 баллов - Взяли корпус для оценка качества эмбеддингов [здесь](https://rusvectores.org/static/testsets/ru_simlex965_tagged.tsv). Описание к нему [здесь](https://arxiv.org/pdf/1801.06407.pdf). Его английская версия для понимания, того что же это такое [тут](https://fh295.github.io/simlex.html). Если в кратце - он похож а гугл аналогии, просто иначе составлен. Определили качество своих эмбеддингов. Как качество измерить? Можете все значения отнормировать (привести к 1) и затем считать MSE между тем что у вас и что в оригинале.\n",
        "3. 9 баллов - Поставили эксперименты, поменяли любые параметры, хоть корпус увеличили или как то почистили. Показали метрики до и после. После должно быть лучше, иначе это все еще 8 баллов.\n",
        "4. 10 баллов - удивили своим подходом (или просто удивили) пока делили на 9 баллов"
      ],
      "metadata": {
        "collapsed": false,
        "id": "9h4T718_6j1y"
      }
    },
    {
      "cell_type": "code",
      "execution_count": null,
      "outputs": [],
      "source": [
        "ref_df = pd.read_csv('/content/ru_simlex965_tagged.tsv', sep='\\t')"
      ],
      "metadata": {
        "pycharm": {
          "name": "#%%\n"
        },
        "id": "l76_88Qc6j1y"
      }
    },
    {
      "cell_type": "code",
      "source": [
        "ref_df.head()"
      ],
      "metadata": {
        "colab": {
          "base_uri": "https://localhost:8080/",
          "height": 206
        },
        "id": "SgZlnFaQ2lRm",
        "outputId": "a3bff57e-bcbc-4f63-d7a4-2d8ff7f9a9c3"
      },
      "execution_count": null,
      "outputs": [
        {
          "output_type": "execute_result",
          "data": {
            "text/plain": [
              "           # Word1            Word2  Average Score\n",
              "0      авария_NOUN    бедствие_NOUN           6.15\n",
              "1      август_NOUN       месяц_NOUN           2.85\n",
              "2     авиация_NOUN       полет_NOUN           6.77\n",
              "3  автомобиль_NOUN       гудок_NOUN           1.85\n",
              "4  автомобиль_NOUN  автострада_NOUN           1.23"
            ],
            "text/html": [
              "\n",
              "  <div id=\"df-7964c0f2-2552-4dba-8574-853c3853f2c2\">\n",
              "    <div class=\"colab-df-container\">\n",
              "      <div>\n",
              "<style scoped>\n",
              "    .dataframe tbody tr th:only-of-type {\n",
              "        vertical-align: middle;\n",
              "    }\n",
              "\n",
              "    .dataframe tbody tr th {\n",
              "        vertical-align: top;\n",
              "    }\n",
              "\n",
              "    .dataframe thead th {\n",
              "        text-align: right;\n",
              "    }\n",
              "</style>\n",
              "<table border=\"1\" class=\"dataframe\">\n",
              "  <thead>\n",
              "    <tr style=\"text-align: right;\">\n",
              "      <th></th>\n",
              "      <th># Word1</th>\n",
              "      <th>Word2</th>\n",
              "      <th>Average Score</th>\n",
              "    </tr>\n",
              "  </thead>\n",
              "  <tbody>\n",
              "    <tr>\n",
              "      <th>0</th>\n",
              "      <td>авария_NOUN</td>\n",
              "      <td>бедствие_NOUN</td>\n",
              "      <td>6.15</td>\n",
              "    </tr>\n",
              "    <tr>\n",
              "      <th>1</th>\n",
              "      <td>август_NOUN</td>\n",
              "      <td>месяц_NOUN</td>\n",
              "      <td>2.85</td>\n",
              "    </tr>\n",
              "    <tr>\n",
              "      <th>2</th>\n",
              "      <td>авиация_NOUN</td>\n",
              "      <td>полет_NOUN</td>\n",
              "      <td>6.77</td>\n",
              "    </tr>\n",
              "    <tr>\n",
              "      <th>3</th>\n",
              "      <td>автомобиль_NOUN</td>\n",
              "      <td>гудок_NOUN</td>\n",
              "      <td>1.85</td>\n",
              "    </tr>\n",
              "    <tr>\n",
              "      <th>4</th>\n",
              "      <td>автомобиль_NOUN</td>\n",
              "      <td>автострада_NOUN</td>\n",
              "      <td>1.23</td>\n",
              "    </tr>\n",
              "  </tbody>\n",
              "</table>\n",
              "</div>\n",
              "      <button class=\"colab-df-convert\" onclick=\"convertToInteractive('df-7964c0f2-2552-4dba-8574-853c3853f2c2')\"\n",
              "              title=\"Convert this dataframe to an interactive table.\"\n",
              "              style=\"display:none;\">\n",
              "        \n",
              "  <svg xmlns=\"http://www.w3.org/2000/svg\" height=\"24px\"viewBox=\"0 0 24 24\"\n",
              "       width=\"24px\">\n",
              "    <path d=\"M0 0h24v24H0V0z\" fill=\"none\"/>\n",
              "    <path d=\"M18.56 5.44l.94 2.06.94-2.06 2.06-.94-2.06-.94-.94-2.06-.94 2.06-2.06.94zm-11 1L8.5 8.5l.94-2.06 2.06-.94-2.06-.94L8.5 2.5l-.94 2.06-2.06.94zm10 10l.94 2.06.94-2.06 2.06-.94-2.06-.94-.94-2.06-.94 2.06-2.06.94z\"/><path d=\"M17.41 7.96l-1.37-1.37c-.4-.4-.92-.59-1.43-.59-.52 0-1.04.2-1.43.59L10.3 9.45l-7.72 7.72c-.78.78-.78 2.05 0 2.83L4 21.41c.39.39.9.59 1.41.59.51 0 1.02-.2 1.41-.59l7.78-7.78 2.81-2.81c.8-.78.8-2.07 0-2.86zM5.41 20L4 18.59l7.72-7.72 1.47 1.35L5.41 20z\"/>\n",
              "  </svg>\n",
              "      </button>\n",
              "      \n",
              "  <style>\n",
              "    .colab-df-container {\n",
              "      display:flex;\n",
              "      flex-wrap:wrap;\n",
              "      gap: 12px;\n",
              "    }\n",
              "\n",
              "    .colab-df-convert {\n",
              "      background-color: #E8F0FE;\n",
              "      border: none;\n",
              "      border-radius: 50%;\n",
              "      cursor: pointer;\n",
              "      display: none;\n",
              "      fill: #1967D2;\n",
              "      height: 32px;\n",
              "      padding: 0 0 0 0;\n",
              "      width: 32px;\n",
              "    }\n",
              "\n",
              "    .colab-df-convert:hover {\n",
              "      background-color: #E2EBFA;\n",
              "      box-shadow: 0px 1px 2px rgba(60, 64, 67, 0.3), 0px 1px 3px 1px rgba(60, 64, 67, 0.15);\n",
              "      fill: #174EA6;\n",
              "    }\n",
              "\n",
              "    [theme=dark] .colab-df-convert {\n",
              "      background-color: #3B4455;\n",
              "      fill: #D2E3FC;\n",
              "    }\n",
              "\n",
              "    [theme=dark] .colab-df-convert:hover {\n",
              "      background-color: #434B5C;\n",
              "      box-shadow: 0px 1px 3px 1px rgba(0, 0, 0, 0.15);\n",
              "      filter: drop-shadow(0px 1px 2px rgba(0, 0, 0, 0.3));\n",
              "      fill: #FFFFFF;\n",
              "    }\n",
              "  </style>\n",
              "\n",
              "      <script>\n",
              "        const buttonEl =\n",
              "          document.querySelector('#df-7964c0f2-2552-4dba-8574-853c3853f2c2 button.colab-df-convert');\n",
              "        buttonEl.style.display =\n",
              "          google.colab.kernel.accessAllowed ? 'block' : 'none';\n",
              "\n",
              "        async function convertToInteractive(key) {\n",
              "          const element = document.querySelector('#df-7964c0f2-2552-4dba-8574-853c3853f2c2');\n",
              "          const dataTable =\n",
              "            await google.colab.kernel.invokeFunction('convertToInteractive',\n",
              "                                                     [key], {});\n",
              "          if (!dataTable) return;\n",
              "\n",
              "          const docLinkHtml = 'Like what you see? Visit the ' +\n",
              "            '<a target=\"_blank\" href=https://colab.research.google.com/notebooks/data_table.ipynb>data table notebook</a>'\n",
              "            + ' to learn more about interactive tables.';\n",
              "          element.innerHTML = '';\n",
              "          dataTable['output_type'] = 'display_data';\n",
              "          await google.colab.output.renderOutput(dataTable, element);\n",
              "          const docLink = document.createElement('div');\n",
              "          docLink.innerHTML = docLinkHtml;\n",
              "          element.appendChild(docLink);\n",
              "        }\n",
              "      </script>\n",
              "    </div>\n",
              "  </div>\n",
              "  "
            ]
          },
          "metadata": {},
          "execution_count": 116
        }
      ]
    },
    {
      "cell_type": "code",
      "source": [
        "y_ref = ref_df['Average Score'].to_numpy().reshape(-1, 1)"
      ],
      "metadata": {
        "id": "-3ZeydlF2oov"
      },
      "execution_count": null,
      "outputs": []
    },
    {
      "cell_type": "code",
      "source": [
        "words = list(zip(ref_df['# Word1'].apply(lambda x: x[:x.find('_')]).tolist(), ref_df['Word2'].apply(lambda x: x[:x.find('_')]).tolist()))"
      ],
      "metadata": {
        "id": "X2ebHJ275W4b"
      },
      "execution_count": null,
      "outputs": []
    },
    {
      "cell_type": "code",
      "source": [
        "scores = np.array([cos_sim(embedding_matrix, word2index, word1, word2) for word1, word2 in words]).reshape(-1, 1)"
      ],
      "metadata": {
        "id": "-dzB_2qA6iH1"
      },
      "execution_count": null,
      "outputs": []
    },
    {
      "cell_type": "code",
      "source": [
        "y_ref"
      ],
      "metadata": {
        "colab": {
          "base_uri": "https://localhost:8080/"
        },
        "id": "cS2EKK5L83Rc",
        "outputId": "deec4076-1ac8-4fbd-90f5-d02fa1771e02"
      },
      "execution_count": null,
      "outputs": [
        {
          "output_type": "execute_result",
          "data": {
            "text/plain": [
              "[6.15,\n",
              " 2.85,\n",
              " 6.77,\n",
              " 1.85,\n",
              " 1.23,\n",
              " 4.15,\n",
              " 1.62,\n",
              " 1.38,\n",
              " 3.0,\n",
              " 1.15,\n",
              " 2.08,\n",
              " 2.15,\n",
              " 1.77,\n",
              " 9.23,\n",
              " 8.31,\n",
              " 9.08,\n",
              " 5.62,\n",
              " 3.69,\n",
              " 6.77,\n",
              " 6.38,\n",
              " 5.31,\n",
              " 6.31,\n",
              " 6.46,\n",
              " 7.92,\n",
              " 7.54,\n",
              " 4.38,\n",
              " 8.77,\n",
              " 5.46,\n",
              " 0.23,\n",
              " 6.85,\n",
              " 3.77,\n",
              " 6.0,\n",
              " 1.85,\n",
              " 1.92,\n",
              " 6.38,\n",
              " 3.23,\n",
              " 1.23,\n",
              " 1.08,\n",
              " 0.77,\n",
              " 9.31,\n",
              " 0.31,\n",
              " 7.62,\n",
              " 5.54,\n",
              " 2.92,\n",
              " 4.08,\n",
              " 2.77,\n",
              " 0.08,\n",
              " 4.08,\n",
              " 2.15,\n",
              " 0.46,\n",
              " 0.23,\n",
              " 1.31,\n",
              " 3.23,\n",
              " 7.5,\n",
              " 2.15,\n",
              " 9.15,\n",
              " 3.31,\n",
              " 2.92,\n",
              " 0.92,\n",
              " 1.54,\n",
              " 0.08,\n",
              " 0.69,\n",
              " 2.69,\n",
              " 4.08,\n",
              " 1.0,\n",
              " 1.15,\n",
              " 6.85,\n",
              " 6.54,\n",
              " 0.0,\n",
              " 2.23,\n",
              " 7.77,\n",
              " 6.62,\n",
              " 8.54,\n",
              " 2.15,\n",
              " 2.31,\n",
              " 9.15,\n",
              " 0.38,\n",
              " 0.31,\n",
              " 0.15,\n",
              " 1.08,\n",
              " 2.08,\n",
              " 5.38,\n",
              " 0.0,\n",
              " 0.23,\n",
              " 1.31,\n",
              " 4.62,\n",
              " 1.46,\n",
              " 7.23,\n",
              " 0.31,\n",
              " 5.38,\n",
              " 7.62,\n",
              " 4.62,\n",
              " 6.46,\n",
              " 5.69,\n",
              " 2.31,\n",
              " 2.69,\n",
              " 1.92,\n",
              " 7.08,\n",
              " 2.85,\n",
              " 2.0,\n",
              " 0.0,\n",
              " 6.62,\n",
              " 1.85,\n",
              " 0.0,\n",
              " 9.08,\n",
              " 5.23,\n",
              " 3.85,\n",
              " 2.23,\n",
              " 0.08,\n",
              " 8.54,\n",
              " 0.15,\n",
              " 7.38,\n",
              " 4.38,\n",
              " 1.85,\n",
              " 4.54,\n",
              " 2.92,\n",
              " 5.54,\n",
              " 6.54,\n",
              " 0.85,\n",
              " 8.62,\n",
              " 7.08,\n",
              " 0.85,\n",
              " 1.0,\n",
              " 1.77,\n",
              " 3.15,\n",
              " 0.08,\n",
              " 4.23,\n",
              " 2.92,\n",
              " 8.0,\n",
              " 8.77,\n",
              " 0.62,\n",
              " 4.15,\n",
              " 2.92,\n",
              " 4.38,\n",
              " 0.15,\n",
              " 3.69,\n",
              " 7.92,\n",
              " 2.85,\n",
              " 6.38,\n",
              " 4.77,\n",
              " 0.77,\n",
              " 0.0,\n",
              " 6.85,\n",
              " 5.46,\n",
              " 6.31,\n",
              " 0.0,\n",
              " 0.46,\n",
              " 0.31,\n",
              " 4.46,\n",
              " 4.92,\n",
              " 0.38,\n",
              " 3.15,\n",
              " 0.69,\n",
              " 0.31,\n",
              " 1.23,\n",
              " 4.69,\n",
              " 5.77,\n",
              " 7.08,\n",
              " 3.08,\n",
              " 4.0,\n",
              " 6.38,\n",
              " 3.54,\n",
              " 2.38,\n",
              " 1.54,\n",
              " 0.77,\n",
              " 7.54,\n",
              " 8.08,\n",
              " 3.08,\n",
              " 4.08,\n",
              " 5.23,\n",
              " 5.92,\n",
              " 2.85,\n",
              " 3.31,\n",
              " 0.31,\n",
              " 0.85,\n",
              " 2.08,\n",
              " 1.23,\n",
              " 2.85,\n",
              " 2.38,\n",
              " 2.54,\n",
              " 8.69,\n",
              " 1.0,\n",
              " 0.77,\n",
              " 5.23,\n",
              " 6.62,\n",
              " 7.31,\n",
              " 6.62,\n",
              " 4.46,\n",
              " 0.23,\n",
              " 6.92,\n",
              " 0.62,\n",
              " 0.85,\n",
              " 3.08,\n",
              " 2.69,\n",
              " 8.38,\n",
              " 0.0,\n",
              " 5.69,\n",
              " 6.62,\n",
              " 1.85,\n",
              " 7.38,\n",
              " 3.08,\n",
              " 7.69,\n",
              " 9.31,\n",
              " 2.46,\n",
              " 3.0,\n",
              " 1.0,\n",
              " 4.46,\n",
              " 2.92,\n",
              " 5.0,\n",
              " 6.08,\n",
              " 3.31,\n",
              " 0.15,\n",
              " 2.62,\n",
              " 0.0,\n",
              " 3.54,\n",
              " 6.31,\n",
              " 0.0,\n",
              " 0.38,\n",
              " 0.0,\n",
              " 0.0,\n",
              " 0.15,\n",
              " 0.0,\n",
              " 0.0,\n",
              " 1.54,\n",
              " 4.62,\n",
              " 0.46,\n",
              " 3.77,\n",
              " 2.54,\n",
              " 0.08,\n",
              " 5.46,\n",
              " 0.0,\n",
              " 0.0,\n",
              " 0.08,\n",
              " 1.38,\n",
              " 3.92,\n",
              " 2.38,\n",
              " 2.0,\n",
              " 1.92,\n",
              " 0.31,\n",
              " 8.85,\n",
              " 6.92,\n",
              " 0.46,\n",
              " 0.31,\n",
              " 0.46,\n",
              " 5.08,\n",
              " 0.0,\n",
              " 5.46,\n",
              " 2.38,\n",
              " 6.77,\n",
              " 2.62,\n",
              " 1.62,\n",
              " 0.38,\n",
              " 4.46,\n",
              " 8.85,\n",
              " 8.38,\n",
              " 1.31,\n",
              " 1.38,\n",
              " 0.0,\n",
              " 3.92,\n",
              " 6.62,\n",
              " 8.85,\n",
              " 3.62,\n",
              " 2.69,\n",
              " 3.46,\n",
              " 7.77,\n",
              " 1.54,\n",
              " 0.08,\n",
              " 5.23,\n",
              " 0.54,\n",
              " 4.62,\n",
              " 5.69,\n",
              " 6.54,\n",
              " 6.46,\n",
              " 4.15,\n",
              " 1.08,\n",
              " 0.08,\n",
              " 5.23,\n",
              " 4.69,\n",
              " 0.85,\n",
              " 8.69,\n",
              " 0.54,\n",
              " 3.15,\n",
              " 6.0,\n",
              " 3.46,\n",
              " 7.54,\n",
              " 4.31,\n",
              " 9.46,\n",
              " 8.69,\n",
              " 4.77,\n",
              " 1.85,\n",
              " 3.92,\n",
              " 7.54,\n",
              " 2.92,\n",
              " 3.92,\n",
              " 2.31,\n",
              " 1.23,\n",
              " 2.0,\n",
              " 1.69,\n",
              " 3.23,\n",
              " 3.23,\n",
              " 5.23,\n",
              " 0.0,\n",
              " 1.46,\n",
              " 1.0,\n",
              " 6.69,\n",
              " 5.31,\n",
              " 6.0,\n",
              " 1.38,\n",
              " 5.23,\n",
              " 2.075,\n",
              " 5.31,\n",
              " 3.77,\n",
              " 3.92,\n",
              " 6.08,\n",
              " 2.38,\n",
              " 2.62,\n",
              " 2.38,\n",
              " 5.62,\n",
              " 6.62,\n",
              " 0.85,\n",
              " 1.15,\n",
              " 5.08,\n",
              " 2.425,\n",
              " 4.54,\n",
              " 6.31,\n",
              " 7.85,\n",
              " 0.15,\n",
              " 6.23,\n",
              " 1.31,\n",
              " 2.92,\n",
              " 1.77,\n",
              " 0.69,\n",
              " 8.08,\n",
              " 2.15,\n",
              " 0.85,\n",
              " 0.0,\n",
              " 8.31,\n",
              " 2.08,\n",
              " 2.08,\n",
              " 2.69,\n",
              " 2.15,\n",
              " 2.08,\n",
              " 1.54,\n",
              " 1.15,\n",
              " 4.46,\n",
              " 0.46,\n",
              " 7.38,\n",
              " 7.54,\n",
              " 9.38,\n",
              " 2.85,\n",
              " 7.69,\n",
              " 2.46,\n",
              " 9.0,\n",
              " 3.08,\n",
              " 8.0,\n",
              " 1.23,\n",
              " 1.23,\n",
              " 1.23,\n",
              " 0.0,\n",
              " 9.46,\n",
              " 0.0,\n",
              " 3.46,\n",
              " 2.77,\n",
              " 0.23,\n",
              " 4.77,\n",
              " 3.54,\n",
              " 0.0,\n",
              " 0.38,\n",
              " 4.0,\n",
              " 0.23,\n",
              " 1.92,\n",
              " 4.85,\n",
              " 0.0,\n",
              " 0.0,\n",
              " 3.77,\n",
              " 3.46,\n",
              " 0.23,\n",
              " 1.77,\n",
              " 3.92,\n",
              " 4.38,\n",
              " 2.0,\n",
              " 0.0,\n",
              " 1.54,\n",
              " 0.69,\n",
              " 10.0,\n",
              " 4.62,\n",
              " 3.54,\n",
              " 5.62,\n",
              " 3.62,\n",
              " 1.0,\n",
              " 2.54,\n",
              " 1.23,\n",
              " 5.85,\n",
              " 0.77,\n",
              " 0.62,\n",
              " 3.85,\n",
              " 2.0,\n",
              " 2.0,\n",
              " 3.31,\n",
              " 4.62,\n",
              " 4.85,\n",
              " 2.62,\n",
              " 5.08,\n",
              " 0.0,\n",
              " 5.85,\n",
              " 0.15,\n",
              " 1.08,\n",
              " 4.69,\n",
              " 1.77,\n",
              " 3.0,\n",
              " 5.23,\n",
              " 3.85,\n",
              " 3.77,\n",
              " 1.85,\n",
              " 5.77,\n",
              " 7.77,\n",
              " 9.31,\n",
              " 8.92,\n",
              " 0.31,\n",
              " 8.23,\n",
              " 2.54,\n",
              " 4.38,\n",
              " 5.08,\n",
              " 0.23,\n",
              " 5.62,\n",
              " 5.92,\n",
              " 1.69,\n",
              " 8.77,\n",
              " 0.62,\n",
              " 1.69,\n",
              " 1.54,\n",
              " 3.85,\n",
              " 6.0,\n",
              " 2.08,\n",
              " 1.31,\n",
              " 0.77,\n",
              " 1.0,\n",
              " 2.85,\n",
              " 3.92,\n",
              " 2.23,\n",
              " 2.77,\n",
              " 0.15,\n",
              " 0.15,\n",
              " 0.08,\n",
              " 0.08,\n",
              " 6.46,\n",
              " 8.62,\n",
              " 6.69,\n",
              " 3.46,\n",
              " 4.69,\n",
              " 7.38,\n",
              " 4.69,\n",
              " 2.69,\n",
              " 0.0,\n",
              " 4.08,\n",
              " 0.0,\n",
              " 0.46,\n",
              " 3.77,\n",
              " 1.69,\n",
              " 1.46,\n",
              " 6.77,\n",
              " 9.46,\n",
              " 1.62,\n",
              " 0.0,\n",
              " 0.0,\n",
              " 5.92,\n",
              " 0.0,\n",
              " 7.38,\n",
              " 0.0,\n",
              " 8.15,\n",
              " 2.85,\n",
              " 6.62,\n",
              " 7.77,\n",
              " 1.85,\n",
              " 0.0,\n",
              " 0.46,\n",
              " 7.77,\n",
              " 0.0,\n",
              " 0.0,\n",
              " 3.31,\n",
              " 0.85,\n",
              " 1.54,\n",
              " 1.23,\n",
              " 1.0,\n",
              " 0.0,\n",
              " 1.08,\n",
              " 0.23,\n",
              " 3.77,\n",
              " 3.38,\n",
              " 2.46,\n",
              " 2.85,\n",
              " 9.08,\n",
              " 8.08,\n",
              " 1.92,\n",
              " 8.85,\n",
              " 6.77,\n",
              " 5.92,\n",
              " 5.77,\n",
              " 2.38,\n",
              " 3.85,\n",
              " 8.85,\n",
              " 4.31,\n",
              " 2.0,\n",
              " 8.46,\n",
              " 8.23,\n",
              " 6.15,\n",
              " 6.08,\n",
              " 9.54,\n",
              " 0.0,\n",
              " 0.92,\n",
              " 2.925,\n",
              " 0.31,\n",
              " 2.46,\n",
              " 7.54,\n",
              " 4.0,\n",
              " 3.31,\n",
              " 0.15,\n",
              " 2.54,\n",
              " 4.85,\n",
              " 9.69,\n",
              " 5.0,\n",
              " 5.31,\n",
              " 7.15,\n",
              " 3.15,\n",
              " 1.38,\n",
              " 1.54,\n",
              " 6.85,\n",
              " 5.31,\n",
              " 5.15,\n",
              " 3.08,\n",
              " 0.15,\n",
              " 0.0,\n",
              " 5.85,\n",
              " 9.46,\n",
              " 1.92,\n",
              " 1.54,\n",
              " 0.69,\n",
              " 4.92,\n",
              " 2.54,\n",
              " 4.46,\n",
              " 6.31,\n",
              " 1.31,\n",
              " 0.08,\n",
              " 2.31,\n",
              " 8.54,\n",
              " 3.46,\n",
              " 3.15,\n",
              " 0.15,\n",
              " 2.31,\n",
              " 4.77,\n",
              " 0.31,\n",
              " 2.31,\n",
              " 1.77,\n",
              " 0.85,\n",
              " 2.0,\n",
              " 0.0,\n",
              " 2.31,\n",
              " 6.31,\n",
              " 4.0,\n",
              " 1.62,\n",
              " 1.92,\n",
              " 1.62,\n",
              " 2.62,\n",
              " 0.54,\n",
              " 0.54,\n",
              " 8.62,\n",
              " 5.85,\n",
              " 0.0,\n",
              " 1.62,\n",
              " 6.62,\n",
              " 4.46,\n",
              " 3.46,\n",
              " 1.38,\n",
              " 9.62,\n",
              " 1.92,\n",
              " 0.46,\n",
              " 4.0,\n",
              " 5.85,\n",
              " 0.46,\n",
              " 5.23,\n",
              " 1.23,\n",
              " 1.92,\n",
              " 0.23,\n",
              " 0.38,\n",
              " 2.38,\n",
              " 5.38,\n",
              " 9.38,\n",
              " 0.69,\n",
              " 2.0,\n",
              " 0.08,\n",
              " 1.23,\n",
              " 1.85,\n",
              " 0.15,\n",
              " 4.0,\n",
              " 1.31,\n",
              " 6.23,\n",
              " 7.46,\n",
              " 8.54,\n",
              " 1.92,\n",
              " 0.08,\n",
              " 0.23,\n",
              " 6.0,\n",
              " 6.77,\n",
              " 4.38,\n",
              " 5.69,\n",
              " 1.77,\n",
              " 5.46,\n",
              " 3.38,\n",
              " 0.15,\n",
              " 0.0,\n",
              " 0.08,\n",
              " 7.69,\n",
              " 4.77,\n",
              " 4.92,\n",
              " 6.85,\n",
              " 6.62,\n",
              " 5.23,\n",
              " 9.23,\n",
              " 6.15,\n",
              " 0.38,\n",
              " 4.92,\n",
              " 3.92,\n",
              " 9.38,\n",
              " 0.0,\n",
              " 5.0,\n",
              " 5.69,\n",
              " 6.23,\n",
              " 0.0,\n",
              " 1.77,\n",
              " 0.0,\n",
              " 8.08,\n",
              " 7.15,\n",
              " 8.15,\n",
              " 3.54,\n",
              " 0.345,\n",
              " 7.08,\n",
              " 2.54,\n",
              " 5.08,\n",
              " 0.46,\n",
              " 0.08,\n",
              " 0.62,\n",
              " 0.23,\n",
              " 0.08,\n",
              " 5.08,\n",
              " 0.0,\n",
              " 7.115,\n",
              " 5.15,\n",
              " 8.46,\n",
              " 0.92,\n",
              " 4.92,\n",
              " 1.77,\n",
              " 6.0,\n",
              " 7.85,\n",
              " 0.23,\n",
              " 4.77,\n",
              " 3.54,\n",
              " 0.69,\n",
              " 7.92,\n",
              " 7.23,\n",
              " 4.23,\n",
              " 3.92,\n",
              " 4.92,\n",
              " 9.31,\n",
              " 0.0,\n",
              " 8.0,\n",
              " 5.46,\n",
              " 7.0,\n",
              " 7.61666666666667,\n",
              " 5.54,\n",
              " 8.31,\n",
              " 0.08,\n",
              " 0.08,\n",
              " 0.31,\n",
              " 0.0,\n",
              " 5.23,\n",
              " 4.08,\n",
              " 5.46,\n",
              " 3.23,\n",
              " 0.69,\n",
              " 8.31,\n",
              " 2.77,\n",
              " 0.62,\n",
              " 0.38,\n",
              " 4.46,\n",
              " 2.54,\n",
              " 0.62,\n",
              " 1.93,\n",
              " 7.38,\n",
              " 1.77,\n",
              " 2.62,\n",
              " 1.69,\n",
              " 8.15,\n",
              " 9.15,\n",
              " 0.0,\n",
              " 0.0,\n",
              " 0.0,\n",
              " 0.23,\n",
              " 7.54,\n",
              " 0.15,\n",
              " 8.08,\n",
              " 0.23,\n",
              " 0.15,\n",
              " 0.0,\n",
              " 5.38,\n",
              " 5.08,\n",
              " 6.23,\n",
              " 0.23,\n",
              " 2.62,\n",
              " 6.77,\n",
              " 7.08,\n",
              " 1.08,\n",
              " 0.08,\n",
              " 5.0,\n",
              " 3.54,\n",
              " 3.69,\n",
              " 0.62,\n",
              " 4.31,\n",
              " 3.15,\n",
              " 9.77,\n",
              " 3.38,\n",
              " 1.23,\n",
              " 0.38,\n",
              " 0.08,\n",
              " 0.54,\n",
              " 2.0,\n",
              " 2.54,\n",
              " 1.54,\n",
              " 1.15,\n",
              " 1.08,\n",
              " 0.46,\n",
              " 1.62,\n",
              " 0.62,\n",
              " 8.69,\n",
              " 1.31,\n",
              " 1.31,\n",
              " 5.69,\n",
              " 7.38,\n",
              " 2.69,\n",
              " 0.0,\n",
              " 1.54,\n",
              " 7.38,\n",
              " 0.46,\n",
              " 2.69,\n",
              " 1.0,\n",
              " 0.0,\n",
              " 7.77,\n",
              " 2.38,\n",
              " 3.23,\n",
              " 9.23,\n",
              " 2.62,\n",
              " 0.15,\n",
              " 9.15,\n",
              " 5.23,\n",
              " 4.46,\n",
              " 2.46,\n",
              " 3.15,\n",
              " 4.85,\n",
              " 0.0,\n",
              " 5.69,\n",
              " 2.77,\n",
              " 3.31,\n",
              " 2.15,\n",
              " 1.0,\n",
              " 9.46,\n",
              " 7.0,\n",
              " 5.0,\n",
              " 6.85,\n",
              " 7.85,\n",
              " 5.31,\n",
              " 4.77,\n",
              " 1.92,\n",
              " 3.08,\n",
              " 2.15,\n",
              " 0.0,\n",
              " 0.62,\n",
              " 7.08,\n",
              " 0.62,\n",
              " 9.46,\n",
              " 0.0,\n",
              " 0.15,\n",
              " 0.0,\n",
              " 4.62,\n",
              " 8.31,\n",
              " 6.92,\n",
              " 0.15,\n",
              " 9.46,\n",
              " 1.69,\n",
              " 8.31,\n",
              " 0.0,\n",
              " 0.0,\n",
              " 9.08,\n",
              " 0.85,\n",
              " 6.77,\n",
              " 3.69,\n",
              " 6.38,\n",
              " 6.85,\n",
              " 0.0,\n",
              " 0.23,\n",
              " 4.85,\n",
              " 1.31,\n",
              " 3.92,\n",
              " 1.46,\n",
              " 7.31,\n",
              " 5.38,\n",
              " 5.08,\n",
              " 2.925,\n",
              " 0.0,\n",
              " 0.0,\n",
              " 3.92,\n",
              " 6.54,\n",
              " 5.69,\n",
              " 1.92,\n",
              " 2.85,\n",
              " 7.62,\n",
              " 2.0,\n",
              " 8.92,\n",
              " 2.69,\n",
              " 8.15,\n",
              " 3.0,\n",
              " 1.38,\n",
              " 3.08,\n",
              " 0.85,\n",
              " 9.38,\n",
              " 7.77,\n",
              " 6.15,\n",
              " 8.46,\n",
              " 8.08,\n",
              " 0.0,\n",
              " 0.46,\n",
              " 1.46,\n",
              " 7.31,\n",
              " 6.38,\n",
              " 5.15,\n",
              " 8.31,\n",
              " 7.77,\n",
              " 6.31,\n",
              " 5.38,\n",
              " 2.62,\n",
              " 3.62,\n",
              " 0.92,\n",
              " 1.54,\n",
              " 3.38,\n",
              " 2.0,\n",
              " 5.23,\n",
              " 0.0,\n",
              " 0.08,\n",
              " 1.38,\n",
              " 6.38,\n",
              " 4.77,\n",
              " 8.62,\n",
              " 8.31,\n",
              " 5.0,\n",
              " 8.15,\n",
              " 0.85,\n",
              " 0.0,\n",
              " 6.15,\n",
              " 5.31,\n",
              " 0.0,\n",
              " 0.23,\n",
              " 7.54,\n",
              " 8.54,\n",
              " 0.0,\n",
              " 0.0,\n",
              " 2.38,\n",
              " 0.62,\n",
              " 8.62,\n",
              " 0.0,\n",
              " 5.92,\n",
              " 7.15,\n",
              " 7.92,\n",
              " 7.08,\n",
              " 3.0,\n",
              " 1.54,\n",
              " 6.0,\n",
              " 0.77,\n",
              " 5.46,\n",
              " 6.77,\n",
              " 0.31,\n",
              " 7.23,\n",
              " 2.69,\n",
              " 1.15,\n",
              " 0.0,\n",
              " 1.62,\n",
              " 5.69,\n",
              " 0.62,\n",
              " 2.85,\n",
              " 6.15,\n",
              " 8.46,\n",
              " 0.46,\n",
              " 2.92,\n",
              " 8.08,\n",
              " 4.38,\n",
              " 7.62,\n",
              " 0.23,\n",
              " 6.46,\n",
              " 9.85,\n",
              " 1.69,\n",
              " 0.38,\n",
              " 9.92,\n",
              " 2.85,\n",
              " 6.77,\n",
              " 1.92,\n",
              " 9.92,\n",
              " 4.38,\n",
              " 7.0,\n",
              " 0.08,\n",
              " 0.15,\n",
              " 2.0,\n",
              " 2.62,\n",
              " 3.38,\n",
              " 5.15,\n",
              " 0.38,\n",
              " 3.54,\n",
              " 1.15,\n",
              " 5.31,\n",
              " 6.15,\n",
              " 6.31,\n",
              " 2.31,\n",
              " 3.0,\n",
              " 0.46,\n",
              " 0.62,\n",
              " 2.23,\n",
              " 0.69,\n",
              " 0.23,\n",
              " 1.46,\n",
              " 3.15,\n",
              " 0.46,\n",
              " 2.31,\n",
              " 9.38,\n",
              " 0.0,\n",
              " 8.08,\n",
              " 0.31,\n",
              " 6.85,\n",
              " 8.54,\n",
              " 6.85,\n",
              " 2.62,\n",
              " 0.0,\n",
              " 3.69,\n",
              " 0.77,\n",
              " 1.23,\n",
              " 0.85,\n",
              " 1.77,\n",
              " 2.08,\n",
              " 7.62,\n",
              " 2.69,\n",
              " 7.46,\n",
              " 6.31,\n",
              " 7.92,\n",
              " 6.46,\n",
              " 2.08,\n",
              " 3.85,\n",
              " 4.31,\n",
              " 2.69,\n",
              " 6.62,\n",
              " 0.0,\n",
              " 1.15,\n",
              " 1.38,\n",
              " 1.54,\n",
              " 3.15,\n",
              " 1.31,\n",
              " 0.15,\n",
              " 2.77,\n",
              " 1.38,\n",
              " 2.62,\n",
              " 7.46]"
            ]
          },
          "metadata": {},
          "execution_count": 136
        }
      ]
    },
    {
      "cell_type": "code",
      "source": [
        "from sklearn.metrics import mean_squared_error\n",
        "from sklearn.preprocessing import minmax_scale"
      ],
      "metadata": {
        "id": "8SXFdkcW7Gly"
      },
      "execution_count": null,
      "outputs": []
    },
    {
      "cell_type": "code",
      "source": [],
      "metadata": {
        "id": "LE71gqfG8Xiu"
      },
      "execution_count": null,
      "outputs": []
    },
    {
      "cell_type": "code",
      "source": [
        "y_scaled = minmax_scale(y_ref)\n",
        "score_scaled = minmax_scale(scores)"
      ],
      "metadata": {
        "id": "cOtFqpx57ZCS"
      },
      "execution_count": null,
      "outputs": []
    },
    {
      "cell_type": "code",
      "source": [
        "y_scaled[:10], score_scaled[:10]"
      ],
      "metadata": {
        "colab": {
          "base_uri": "https://localhost:8080/"
        },
        "id": "FGgMzAVi-Ie0",
        "outputId": "05b845d8-0b18-47d7-febd-c44847838ae8"
      },
      "execution_count": null,
      "outputs": [
        {
          "output_type": "execute_result",
          "data": {
            "text/plain": [
              "(array([[0.615],\n",
              "        [0.285],\n",
              "        [0.677],\n",
              "        [0.185],\n",
              "        [0.123],\n",
              "        [0.415],\n",
              "        [0.162],\n",
              "        [0.138],\n",
              "        [0.3  ],\n",
              "        [0.115]]), array([[0.05382702],\n",
              "        [0.68766385],\n",
              "        [1.        ],\n",
              "        [0.33167764],\n",
              "        [0.41587927],\n",
              "        [0.3133815 ],\n",
              "        [0.41587927],\n",
              "        [0.45849368],\n",
              "        [0.41587927],\n",
              "        [0.57538852]]))"
            ]
          },
          "metadata": {},
          "execution_count": 158
        }
      ]
    },
    {
      "cell_type": "code",
      "source": [
        "print(mean_squared_error(y_scaled, score_scaled))"
      ],
      "metadata": {
        "colab": {
          "base_uri": "https://localhost:8080/"
        },
        "id": "26l-Di3B8tTZ",
        "outputId": "f21867e2-dd12-4b9a-b63e-bfe2eecde8ef"
      },
      "execution_count": null,
      "outputs": [
        {
          "output_type": "stream",
          "name": "stdout",
          "text": [
            "0.16454789780122034\n"
          ]
        }
      ]
    },
    {
      "cell_type": "code",
      "source": [],
      "metadata": {
        "id": "pEOuv7YP-GYU"
      },
      "execution_count": null,
      "outputs": []
    }
  ],
  "metadata": {
    "kernelspec": {
      "display_name": "Python 3",
      "language": "python",
      "name": "python3"
    },
    "language_info": {
      "codemirror_mode": {
        "name": "ipython",
        "version": 3
      },
      "file_extension": ".py",
      "mimetype": "text/x-python",
      "name": "python",
      "nbconvert_exporter": "python",
      "pygments_lexer": "ipython3",
      "version": "3.6.8"
    },
    "colab": {
      "provenance": []
    }
  },
  "nbformat": 4,
  "nbformat_minor": 0
}